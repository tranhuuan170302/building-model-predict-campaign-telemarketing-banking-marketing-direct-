{
  "nbformat": 4,
  "nbformat_minor": 0,
  "metadata": {
    "colab": {
      "name": "Bản sao của analyst-predict-telemarketingBanking.ipynb",
      "provenance": [],
      "collapsed_sections": [],
      "authorship_tag": "ABX9TyNB4L2GrF88popOMm1dmw9z",
      "include_colab_link": true
    },
    "kernelspec": {
      "name": "python3",
      "display_name": "Python 3"
    },
    "language_info": {
      "name": "python"
    }
  },
  "cells": [
    {
      "cell_type": "markdown",
      "metadata": {
        "id": "view-in-github",
        "colab_type": "text"
      },
      "source": [
        "<a href=\"https://colab.research.google.com/github/tranhuuan170302/building-model-predict-campaign-telemarketing-banking-marketing-direct-/blob/main/analyst_predict_telemarketingBanking.ipynb\" target=\"_parent\"><img src=\"https://colab.research.google.com/assets/colab-badge.svg\" alt=\"Open In Colab\"/></a>"
      ]
    },
    {
      "cell_type": "markdown",
      "source": [
        "# I.import library"
      ],
      "metadata": {
        "id": "ikX75nPocryK"
      }
    },
    {
      "cell_type": "code",
      "execution_count": null,
      "metadata": {
        "id": "RSQCOCqzcfXX"
      },
      "outputs": [],
      "source": [
        "import pandas as pd\n",
        "import numpy as np\n",
        "import seaborn as sns\n",
        "import matplotlib.pyplot as plt\n",
        "from sklearn import metrics\n",
        "from sklearn.metrics import classification_report\n",
        "from sklearn.metrics import confusion_matrix\n",
        "sns.set()\n",
        "%matplotlib inline"
      ]
    },
    {
      "cell_type": "markdown",
      "source": [
        "# II. Summary dataset\n",
        "Input variables:\n",
        "   ### bank client data:\n",
        "   1 - age (numeric)<br>\n",
        "   2 - job : type of job (categorical: \"admin.\",\"blue-collar\",\"entrepreneur\",\"housemaid\",\"management\",\"retired\",\"self-employed\",\"services\",\"student\",\"technician\",\"unemployed\",\"unknown\")<br>\n",
        "   3 - marital : marital status (categorical: \"divorced\",\"married\",\"single\",\"unknown\"; note: \"divorced\" means divorced or widowed)<br>\n",
        "   4 - education (categorical: \"basic.4y\",\"basic.6y\",\"basic.9y\",\"high.school\",\"illiterate\",\"professional.course\",\"university.degree\",\"unknown\")<br>\n",
        "   5 - default: has credit in default? (categorical: \"no\",\"yes\",\"unknown\")<br>\n",
        "   6 - housing: has housing loan? (categorical: \"no\",\"yes\",\"unknown\")<br>\n",
        "   7 - loan: has personal loan? (categorical: \"no\",\"yes\",\"unknown\")<br>\n",
        "   ### related with the last contact of the current campaign:\n",
        "   8 - contact: contact communication type (categorical: \"cellular\",\"telephone\") <br>\n",
        "   9 - month: last contact month of year (categorical: \"jan\", \"feb\", \"mar\", ..., \"nov\", \"dec\")<br>\n",
        "  10 - day_of_week: last contact day of the week (categorical: \"mon\",\"tue\",\"wed\",\"thu\",\"fri\")<br>\n",
        "  11 - duration: last contact duration, in seconds (numeric). Important note:  this attribute highly affects the output target (e.g., if duration=0 then y=\"no\"). Yet, the duration is not known before a call is performed. Also, after the end of the call y is obviously known. Thus, this input should only be included for benchmark purposes and should be discarded if the intention is to have a realistic predictive model.<br>\n",
        "   ### other attributes:\n",
        "  12 - campaign: number of contacts performed during this campaign and for this client (numeric, includes last contact)<br>\n",
        "  13 - pdays: number of days that passed by after the client was last contacted from a previous campaign (numeric; 999 means client was not previously contacted)<br>\n",
        "  14 - previous: number of contacts performed before this campaign and for this client (numeric)<br>\n",
        "  15 - poutcome: outcome of the previous marketing campaign (categorical: \"failure\",\"nonexistent\",\"success\")<br>\n",
        "   ### social and economic context attributes\n",
        "  16 - emp.var.rate: employment variation rate - quarterly indicator (numeric)<br>\n",
        "  17 - cons.price.idx: consumer price index - monthly indicator (numeric)  <br>   \n",
        "  18 - cons.conf.idx: consumer confidence index - monthly indicator (numeric)   <br>  \n",
        "  19 - euribor3m: euribor 3 month rate - daily indicator (numeric)<br>\n",
        "  20 - nr.employed: number of employees - quarterly indicator (numeric)<br>\n",
        "\n",
        "  Output variable (desired target):<br>\n",
        "  21 - y - has the client subscribed a term deposit? (binary: \"yes\",\"no\")<br>"
      ],
      "metadata": {
        "id": "RvkYbhOycxue"
      }
    },
    {
      "cell_type": "markdown",
      "source": [
        "# III. Data overview"
      ],
      "metadata": {
        "id": "l-kHiDpVdMNK"
      }
    },
    {
      "cell_type": "code",
      "source": [
        "df = pd.read_csv(\"/content/bank-additional-full.csv\", sep = ';')\n",
        "df.head()"
      ],
      "metadata": {
        "colab": {
          "base_uri": "https://localhost:8080/",
          "height": 299
        },
        "id": "QB6wJxXWcvc_",
        "outputId": "504c4c34-e526-465d-f2cb-ef4c53205bf5"
      },
      "execution_count": null,
      "outputs": [
        {
          "output_type": "execute_result",
          "data": {
            "text/plain": [
              "   age        job  marital    education  default housing loan    contact  \\\n",
              "0   56  housemaid  married     basic.4y       no      no   no  telephone   \n",
              "1   57   services  married  high.school  unknown      no   no  telephone   \n",
              "2   37   services  married  high.school       no     yes   no  telephone   \n",
              "3   40     admin.  married     basic.6y       no      no   no  telephone   \n",
              "4   56   services  married  high.school       no      no  yes  telephone   \n",
              "\n",
              "  month day_of_week  ...  campaign  pdays  previous     poutcome emp.var.rate  \\\n",
              "0   may         mon  ...         1    999         0  nonexistent          1.1   \n",
              "1   may         mon  ...         1    999         0  nonexistent          1.1   \n",
              "2   may         mon  ...         1    999         0  nonexistent          1.1   \n",
              "3   may         mon  ...         1    999         0  nonexistent          1.1   \n",
              "4   may         mon  ...         1    999         0  nonexistent          1.1   \n",
              "\n",
              "   cons.price.idx  cons.conf.idx  euribor3m  nr.employed   y  \n",
              "0          93.994          -36.4      4.857       5191.0  no  \n",
              "1          93.994          -36.4      4.857       5191.0  no  \n",
              "2          93.994          -36.4      4.857       5191.0  no  \n",
              "3          93.994          -36.4      4.857       5191.0  no  \n",
              "4          93.994          -36.4      4.857       5191.0  no  \n",
              "\n",
              "[5 rows x 21 columns]"
            ],
            "text/html": [
              "\n",
              "  <div id=\"df-f9a65559-6b9a-4b97-8fe6-322f9ca5174e\">\n",
              "    <div class=\"colab-df-container\">\n",
              "      <div>\n",
              "<style scoped>\n",
              "    .dataframe tbody tr th:only-of-type {\n",
              "        vertical-align: middle;\n",
              "    }\n",
              "\n",
              "    .dataframe tbody tr th {\n",
              "        vertical-align: top;\n",
              "    }\n",
              "\n",
              "    .dataframe thead th {\n",
              "        text-align: right;\n",
              "    }\n",
              "</style>\n",
              "<table border=\"1\" class=\"dataframe\">\n",
              "  <thead>\n",
              "    <tr style=\"text-align: right;\">\n",
              "      <th></th>\n",
              "      <th>age</th>\n",
              "      <th>job</th>\n",
              "      <th>marital</th>\n",
              "      <th>education</th>\n",
              "      <th>default</th>\n",
              "      <th>housing</th>\n",
              "      <th>loan</th>\n",
              "      <th>contact</th>\n",
              "      <th>month</th>\n",
              "      <th>day_of_week</th>\n",
              "      <th>...</th>\n",
              "      <th>campaign</th>\n",
              "      <th>pdays</th>\n",
              "      <th>previous</th>\n",
              "      <th>poutcome</th>\n",
              "      <th>emp.var.rate</th>\n",
              "      <th>cons.price.idx</th>\n",
              "      <th>cons.conf.idx</th>\n",
              "      <th>euribor3m</th>\n",
              "      <th>nr.employed</th>\n",
              "      <th>y</th>\n",
              "    </tr>\n",
              "  </thead>\n",
              "  <tbody>\n",
              "    <tr>\n",
              "      <th>0</th>\n",
              "      <td>56</td>\n",
              "      <td>housemaid</td>\n",
              "      <td>married</td>\n",
              "      <td>basic.4y</td>\n",
              "      <td>no</td>\n",
              "      <td>no</td>\n",
              "      <td>no</td>\n",
              "      <td>telephone</td>\n",
              "      <td>may</td>\n",
              "      <td>mon</td>\n",
              "      <td>...</td>\n",
              "      <td>1</td>\n",
              "      <td>999</td>\n",
              "      <td>0</td>\n",
              "      <td>nonexistent</td>\n",
              "      <td>1.1</td>\n",
              "      <td>93.994</td>\n",
              "      <td>-36.4</td>\n",
              "      <td>4.857</td>\n",
              "      <td>5191.0</td>\n",
              "      <td>no</td>\n",
              "    </tr>\n",
              "    <tr>\n",
              "      <th>1</th>\n",
              "      <td>57</td>\n",
              "      <td>services</td>\n",
              "      <td>married</td>\n",
              "      <td>high.school</td>\n",
              "      <td>unknown</td>\n",
              "      <td>no</td>\n",
              "      <td>no</td>\n",
              "      <td>telephone</td>\n",
              "      <td>may</td>\n",
              "      <td>mon</td>\n",
              "      <td>...</td>\n",
              "      <td>1</td>\n",
              "      <td>999</td>\n",
              "      <td>0</td>\n",
              "      <td>nonexistent</td>\n",
              "      <td>1.1</td>\n",
              "      <td>93.994</td>\n",
              "      <td>-36.4</td>\n",
              "      <td>4.857</td>\n",
              "      <td>5191.0</td>\n",
              "      <td>no</td>\n",
              "    </tr>\n",
              "    <tr>\n",
              "      <th>2</th>\n",
              "      <td>37</td>\n",
              "      <td>services</td>\n",
              "      <td>married</td>\n",
              "      <td>high.school</td>\n",
              "      <td>no</td>\n",
              "      <td>yes</td>\n",
              "      <td>no</td>\n",
              "      <td>telephone</td>\n",
              "      <td>may</td>\n",
              "      <td>mon</td>\n",
              "      <td>...</td>\n",
              "      <td>1</td>\n",
              "      <td>999</td>\n",
              "      <td>0</td>\n",
              "      <td>nonexistent</td>\n",
              "      <td>1.1</td>\n",
              "      <td>93.994</td>\n",
              "      <td>-36.4</td>\n",
              "      <td>4.857</td>\n",
              "      <td>5191.0</td>\n",
              "      <td>no</td>\n",
              "    </tr>\n",
              "    <tr>\n",
              "      <th>3</th>\n",
              "      <td>40</td>\n",
              "      <td>admin.</td>\n",
              "      <td>married</td>\n",
              "      <td>basic.6y</td>\n",
              "      <td>no</td>\n",
              "      <td>no</td>\n",
              "      <td>no</td>\n",
              "      <td>telephone</td>\n",
              "      <td>may</td>\n",
              "      <td>mon</td>\n",
              "      <td>...</td>\n",
              "      <td>1</td>\n",
              "      <td>999</td>\n",
              "      <td>0</td>\n",
              "      <td>nonexistent</td>\n",
              "      <td>1.1</td>\n",
              "      <td>93.994</td>\n",
              "      <td>-36.4</td>\n",
              "      <td>4.857</td>\n",
              "      <td>5191.0</td>\n",
              "      <td>no</td>\n",
              "    </tr>\n",
              "    <tr>\n",
              "      <th>4</th>\n",
              "      <td>56</td>\n",
              "      <td>services</td>\n",
              "      <td>married</td>\n",
              "      <td>high.school</td>\n",
              "      <td>no</td>\n",
              "      <td>no</td>\n",
              "      <td>yes</td>\n",
              "      <td>telephone</td>\n",
              "      <td>may</td>\n",
              "      <td>mon</td>\n",
              "      <td>...</td>\n",
              "      <td>1</td>\n",
              "      <td>999</td>\n",
              "      <td>0</td>\n",
              "      <td>nonexistent</td>\n",
              "      <td>1.1</td>\n",
              "      <td>93.994</td>\n",
              "      <td>-36.4</td>\n",
              "      <td>4.857</td>\n",
              "      <td>5191.0</td>\n",
              "      <td>no</td>\n",
              "    </tr>\n",
              "  </tbody>\n",
              "</table>\n",
              "<p>5 rows × 21 columns</p>\n",
              "</div>\n",
              "      <button class=\"colab-df-convert\" onclick=\"convertToInteractive('df-f9a65559-6b9a-4b97-8fe6-322f9ca5174e')\"\n",
              "              title=\"Convert this dataframe to an interactive table.\"\n",
              "              style=\"display:none;\">\n",
              "        \n",
              "  <svg xmlns=\"http://www.w3.org/2000/svg\" height=\"24px\"viewBox=\"0 0 24 24\"\n",
              "       width=\"24px\">\n",
              "    <path d=\"M0 0h24v24H0V0z\" fill=\"none\"/>\n",
              "    <path d=\"M18.56 5.44l.94 2.06.94-2.06 2.06-.94-2.06-.94-.94-2.06-.94 2.06-2.06.94zm-11 1L8.5 8.5l.94-2.06 2.06-.94-2.06-.94L8.5 2.5l-.94 2.06-2.06.94zm10 10l.94 2.06.94-2.06 2.06-.94-2.06-.94-.94-2.06-.94 2.06-2.06.94z\"/><path d=\"M17.41 7.96l-1.37-1.37c-.4-.4-.92-.59-1.43-.59-.52 0-1.04.2-1.43.59L10.3 9.45l-7.72 7.72c-.78.78-.78 2.05 0 2.83L4 21.41c.39.39.9.59 1.41.59.51 0 1.02-.2 1.41-.59l7.78-7.78 2.81-2.81c.8-.78.8-2.07 0-2.86zM5.41 20L4 18.59l7.72-7.72 1.47 1.35L5.41 20z\"/>\n",
              "  </svg>\n",
              "      </button>\n",
              "      \n",
              "  <style>\n",
              "    .colab-df-container {\n",
              "      display:flex;\n",
              "      flex-wrap:wrap;\n",
              "      gap: 12px;\n",
              "    }\n",
              "\n",
              "    .colab-df-convert {\n",
              "      background-color: #E8F0FE;\n",
              "      border: none;\n",
              "      border-radius: 50%;\n",
              "      cursor: pointer;\n",
              "      display: none;\n",
              "      fill: #1967D2;\n",
              "      height: 32px;\n",
              "      padding: 0 0 0 0;\n",
              "      width: 32px;\n",
              "    }\n",
              "\n",
              "    .colab-df-convert:hover {\n",
              "      background-color: #E2EBFA;\n",
              "      box-shadow: 0px 1px 2px rgba(60, 64, 67, 0.3), 0px 1px 3px 1px rgba(60, 64, 67, 0.15);\n",
              "      fill: #174EA6;\n",
              "    }\n",
              "\n",
              "    [theme=dark] .colab-df-convert {\n",
              "      background-color: #3B4455;\n",
              "      fill: #D2E3FC;\n",
              "    }\n",
              "\n",
              "    [theme=dark] .colab-df-convert:hover {\n",
              "      background-color: #434B5C;\n",
              "      box-shadow: 0px 1px 3px 1px rgba(0, 0, 0, 0.15);\n",
              "      filter: drop-shadow(0px 1px 2px rgba(0, 0, 0, 0.3));\n",
              "      fill: #FFFFFF;\n",
              "    }\n",
              "  </style>\n",
              "\n",
              "      <script>\n",
              "        const buttonEl =\n",
              "          document.querySelector('#df-f9a65559-6b9a-4b97-8fe6-322f9ca5174e button.colab-df-convert');\n",
              "        buttonEl.style.display =\n",
              "          google.colab.kernel.accessAllowed ? 'block' : 'none';\n",
              "\n",
              "        async function convertToInteractive(key) {\n",
              "          const element = document.querySelector('#df-f9a65559-6b9a-4b97-8fe6-322f9ca5174e');\n",
              "          const dataTable =\n",
              "            await google.colab.kernel.invokeFunction('convertToInteractive',\n",
              "                                                     [key], {});\n",
              "          if (!dataTable) return;\n",
              "\n",
              "          const docLinkHtml = 'Like what you see? Visit the ' +\n",
              "            '<a target=\"_blank\" href=https://colab.research.google.com/notebooks/data_table.ipynb>data table notebook</a>'\n",
              "            + ' to learn more about interactive tables.';\n",
              "          element.innerHTML = '';\n",
              "          dataTable['output_type'] = 'display_data';\n",
              "          await google.colab.output.renderOutput(dataTable, element);\n",
              "          const docLink = document.createElement('div');\n",
              "          docLink.innerHTML = docLinkHtml;\n",
              "          element.appendChild(docLink);\n",
              "        }\n",
              "      </script>\n",
              "    </div>\n",
              "  </div>\n",
              "  "
            ]
          },
          "metadata": {},
          "execution_count": 77
        }
      ]
    },
    {
      "cell_type": "markdown",
      "source": [
        "### 1.describe data"
      ],
      "metadata": {
        "id": "HeGzKSkPeBAb"
      }
    },
    {
      "cell_type": "code",
      "source": [
        "df.describe().style.background_gradient()"
      ],
      "metadata": {
        "colab": {
          "base_uri": "https://localhost:8080/",
          "height": 300
        },
        "id": "EGlVzB7ydS3E",
        "outputId": "23eea080-f337-4ecd-851b-ab8941a69650"
      },
      "execution_count": null,
      "outputs": [
        {
          "output_type": "execute_result",
          "data": {
            "text/plain": [
              "<pandas.io.formats.style.Styler at 0x7f48c13c6450>"
            ],
            "text/html": [
              "<style type=\"text/css\">\n",
              "#T_5c295_row0_col0, #T_5c295_row0_col1, #T_5c295_row0_col2, #T_5c295_row0_col3, #T_5c295_row0_col4, #T_5c295_row0_col5, #T_5c295_row0_col6, #T_5c295_row0_col7, #T_5c295_row0_col8, #T_5c295_row0_col9 {\n",
              "  background-color: #023858;\n",
              "  color: #f1f1f1;\n",
              "}\n",
              "#T_5c295_row1_col0, #T_5c295_row1_col2, #T_5c295_row1_col4, #T_5c295_row1_col5, #T_5c295_row1_col6, #T_5c295_row1_col7, #T_5c295_row1_col8, #T_5c295_row2_col0, #T_5c295_row2_col2, #T_5c295_row2_col4, #T_5c295_row2_col5, #T_5c295_row2_col6, #T_5c295_row2_col7, #T_5c295_row2_col8, #T_5c295_row2_col9, #T_5c295_row3_col0, #T_5c295_row3_col1, #T_5c295_row3_col2, #T_5c295_row3_col3, #T_5c295_row3_col4, #T_5c295_row3_col5, #T_5c295_row3_col6, #T_5c295_row3_col7, #T_5c295_row3_col8, #T_5c295_row4_col0, #T_5c295_row4_col1, #T_5c295_row4_col2, #T_5c295_row4_col4, #T_5c295_row4_col5, #T_5c295_row4_col6, #T_5c295_row4_col7, #T_5c295_row4_col8, #T_5c295_row5_col0, #T_5c295_row5_col2, #T_5c295_row5_col4, #T_5c295_row5_col5, #T_5c295_row5_col6, #T_5c295_row5_col7, #T_5c295_row5_col8, #T_5c295_row6_col0, #T_5c295_row6_col2, #T_5c295_row6_col4, #T_5c295_row6_col5, #T_5c295_row6_col6, #T_5c295_row6_col7, #T_5c295_row6_col8, #T_5c295_row7_col0, #T_5c295_row7_col2, #T_5c295_row7_col4, #T_5c295_row7_col5, #T_5c295_row7_col6, #T_5c295_row7_col7, #T_5c295_row7_col8 {\n",
              "  background-color: #fff7fb;\n",
              "  color: #000000;\n",
              "}\n",
              "#T_5c295_row1_col1, #T_5c295_row2_col1, #T_5c295_row2_col3, #T_5c295_row5_col1, #T_5c295_row6_col1 {\n",
              "  background-color: #fef6fb;\n",
              "  color: #000000;\n",
              "}\n",
              "#T_5c295_row1_col3 {\n",
              "  background-color: #fcf4fa;\n",
              "  color: #000000;\n",
              "}\n",
              "#T_5c295_row1_col9, #T_5c295_row4_col9, #T_5c295_row5_col9 {\n",
              "  background-color: #ede7f2;\n",
              "  color: #000000;\n",
              "}\n",
              "#T_5c295_row3_col9, #T_5c295_row7_col1 {\n",
              "  background-color: #ede8f3;\n",
              "  color: #000000;\n",
              "}\n",
              "#T_5c295_row4_col3, #T_5c295_row5_col3, #T_5c295_row6_col3, #T_5c295_row7_col3 {\n",
              "  background-color: #fbf4f9;\n",
              "  color: #000000;\n",
              "}\n",
              "#T_5c295_row6_col9, #T_5c295_row7_col9 {\n",
              "  background-color: #ece7f2;\n",
              "  color: #000000;\n",
              "}\n",
              "</style>\n",
              "<table id=\"T_5c295_\" class=\"dataframe\">\n",
              "  <thead>\n",
              "    <tr>\n",
              "      <th class=\"blank level0\" >&nbsp;</th>\n",
              "      <th class=\"col_heading level0 col0\" >age</th>\n",
              "      <th class=\"col_heading level0 col1\" >duration</th>\n",
              "      <th class=\"col_heading level0 col2\" >campaign</th>\n",
              "      <th class=\"col_heading level0 col3\" >pdays</th>\n",
              "      <th class=\"col_heading level0 col4\" >previous</th>\n",
              "      <th class=\"col_heading level0 col5\" >emp.var.rate</th>\n",
              "      <th class=\"col_heading level0 col6\" >cons.price.idx</th>\n",
              "      <th class=\"col_heading level0 col7\" >cons.conf.idx</th>\n",
              "      <th class=\"col_heading level0 col8\" >euribor3m</th>\n",
              "      <th class=\"col_heading level0 col9\" >nr.employed</th>\n",
              "    </tr>\n",
              "  </thead>\n",
              "  <tbody>\n",
              "    <tr>\n",
              "      <th id=\"T_5c295_level0_row0\" class=\"row_heading level0 row0\" >count</th>\n",
              "      <td id=\"T_5c295_row0_col0\" class=\"data row0 col0\" >41188.000000</td>\n",
              "      <td id=\"T_5c295_row0_col1\" class=\"data row0 col1\" >41188.000000</td>\n",
              "      <td id=\"T_5c295_row0_col2\" class=\"data row0 col2\" >41188.000000</td>\n",
              "      <td id=\"T_5c295_row0_col3\" class=\"data row0 col3\" >41188.000000</td>\n",
              "      <td id=\"T_5c295_row0_col4\" class=\"data row0 col4\" >41188.000000</td>\n",
              "      <td id=\"T_5c295_row0_col5\" class=\"data row0 col5\" >41188.000000</td>\n",
              "      <td id=\"T_5c295_row0_col6\" class=\"data row0 col6\" >41188.000000</td>\n",
              "      <td id=\"T_5c295_row0_col7\" class=\"data row0 col7\" >41188.000000</td>\n",
              "      <td id=\"T_5c295_row0_col8\" class=\"data row0 col8\" >41188.000000</td>\n",
              "      <td id=\"T_5c295_row0_col9\" class=\"data row0 col9\" >41188.000000</td>\n",
              "    </tr>\n",
              "    <tr>\n",
              "      <th id=\"T_5c295_level0_row1\" class=\"row_heading level0 row1\" >mean</th>\n",
              "      <td id=\"T_5c295_row1_col0\" class=\"data row1 col0\" >40.024060</td>\n",
              "      <td id=\"T_5c295_row1_col1\" class=\"data row1 col1\" >258.285010</td>\n",
              "      <td id=\"T_5c295_row1_col2\" class=\"data row1 col2\" >2.567593</td>\n",
              "      <td id=\"T_5c295_row1_col3\" class=\"data row1 col3\" >962.475454</td>\n",
              "      <td id=\"T_5c295_row1_col4\" class=\"data row1 col4\" >0.172963</td>\n",
              "      <td id=\"T_5c295_row1_col5\" class=\"data row1 col5\" >0.081886</td>\n",
              "      <td id=\"T_5c295_row1_col6\" class=\"data row1 col6\" >93.575664</td>\n",
              "      <td id=\"T_5c295_row1_col7\" class=\"data row1 col7\" >-40.502600</td>\n",
              "      <td id=\"T_5c295_row1_col8\" class=\"data row1 col8\" >3.621291</td>\n",
              "      <td id=\"T_5c295_row1_col9\" class=\"data row1 col9\" >5167.035911</td>\n",
              "    </tr>\n",
              "    <tr>\n",
              "      <th id=\"T_5c295_level0_row2\" class=\"row_heading level0 row2\" >std</th>\n",
              "      <td id=\"T_5c295_row2_col0\" class=\"data row2 col0\" >10.421250</td>\n",
              "      <td id=\"T_5c295_row2_col1\" class=\"data row2 col1\" >259.279249</td>\n",
              "      <td id=\"T_5c295_row2_col2\" class=\"data row2 col2\" >2.770014</td>\n",
              "      <td id=\"T_5c295_row2_col3\" class=\"data row2 col3\" >186.910907</td>\n",
              "      <td id=\"T_5c295_row2_col4\" class=\"data row2 col4\" >0.494901</td>\n",
              "      <td id=\"T_5c295_row2_col5\" class=\"data row2 col5\" >1.570960</td>\n",
              "      <td id=\"T_5c295_row2_col6\" class=\"data row2 col6\" >0.578840</td>\n",
              "      <td id=\"T_5c295_row2_col7\" class=\"data row2 col7\" >4.628198</td>\n",
              "      <td id=\"T_5c295_row2_col8\" class=\"data row2 col8\" >1.734447</td>\n",
              "      <td id=\"T_5c295_row2_col9\" class=\"data row2 col9\" >72.251528</td>\n",
              "    </tr>\n",
              "    <tr>\n",
              "      <th id=\"T_5c295_level0_row3\" class=\"row_heading level0 row3\" >min</th>\n",
              "      <td id=\"T_5c295_row3_col0\" class=\"data row3 col0\" >17.000000</td>\n",
              "      <td id=\"T_5c295_row3_col1\" class=\"data row3 col1\" >0.000000</td>\n",
              "      <td id=\"T_5c295_row3_col2\" class=\"data row3 col2\" >1.000000</td>\n",
              "      <td id=\"T_5c295_row3_col3\" class=\"data row3 col3\" >0.000000</td>\n",
              "      <td id=\"T_5c295_row3_col4\" class=\"data row3 col4\" >0.000000</td>\n",
              "      <td id=\"T_5c295_row3_col5\" class=\"data row3 col5\" >-3.400000</td>\n",
              "      <td id=\"T_5c295_row3_col6\" class=\"data row3 col6\" >92.201000</td>\n",
              "      <td id=\"T_5c295_row3_col7\" class=\"data row3 col7\" >-50.800000</td>\n",
              "      <td id=\"T_5c295_row3_col8\" class=\"data row3 col8\" >0.634000</td>\n",
              "      <td id=\"T_5c295_row3_col9\" class=\"data row3 col9\" >4963.600000</td>\n",
              "    </tr>\n",
              "    <tr>\n",
              "      <th id=\"T_5c295_level0_row4\" class=\"row_heading level0 row4\" >25%</th>\n",
              "      <td id=\"T_5c295_row4_col0\" class=\"data row4 col0\" >32.000000</td>\n",
              "      <td id=\"T_5c295_row4_col1\" class=\"data row4 col1\" >102.000000</td>\n",
              "      <td id=\"T_5c295_row4_col2\" class=\"data row4 col2\" >1.000000</td>\n",
              "      <td id=\"T_5c295_row4_col3\" class=\"data row4 col3\" >999.000000</td>\n",
              "      <td id=\"T_5c295_row4_col4\" class=\"data row4 col4\" >0.000000</td>\n",
              "      <td id=\"T_5c295_row4_col5\" class=\"data row4 col5\" >-1.800000</td>\n",
              "      <td id=\"T_5c295_row4_col6\" class=\"data row4 col6\" >93.075000</td>\n",
              "      <td id=\"T_5c295_row4_col7\" class=\"data row4 col7\" >-42.700000</td>\n",
              "      <td id=\"T_5c295_row4_col8\" class=\"data row4 col8\" >1.344000</td>\n",
              "      <td id=\"T_5c295_row4_col9\" class=\"data row4 col9\" >5099.100000</td>\n",
              "    </tr>\n",
              "    <tr>\n",
              "      <th id=\"T_5c295_level0_row5\" class=\"row_heading level0 row5\" >50%</th>\n",
              "      <td id=\"T_5c295_row5_col0\" class=\"data row5 col0\" >38.000000</td>\n",
              "      <td id=\"T_5c295_row5_col1\" class=\"data row5 col1\" >180.000000</td>\n",
              "      <td id=\"T_5c295_row5_col2\" class=\"data row5 col2\" >2.000000</td>\n",
              "      <td id=\"T_5c295_row5_col3\" class=\"data row5 col3\" >999.000000</td>\n",
              "      <td id=\"T_5c295_row5_col4\" class=\"data row5 col4\" >0.000000</td>\n",
              "      <td id=\"T_5c295_row5_col5\" class=\"data row5 col5\" >1.100000</td>\n",
              "      <td id=\"T_5c295_row5_col6\" class=\"data row5 col6\" >93.749000</td>\n",
              "      <td id=\"T_5c295_row5_col7\" class=\"data row5 col7\" >-41.800000</td>\n",
              "      <td id=\"T_5c295_row5_col8\" class=\"data row5 col8\" >4.857000</td>\n",
              "      <td id=\"T_5c295_row5_col9\" class=\"data row5 col9\" >5191.000000</td>\n",
              "    </tr>\n",
              "    <tr>\n",
              "      <th id=\"T_5c295_level0_row6\" class=\"row_heading level0 row6\" >75%</th>\n",
              "      <td id=\"T_5c295_row6_col0\" class=\"data row6 col0\" >47.000000</td>\n",
              "      <td id=\"T_5c295_row6_col1\" class=\"data row6 col1\" >319.000000</td>\n",
              "      <td id=\"T_5c295_row6_col2\" class=\"data row6 col2\" >3.000000</td>\n",
              "      <td id=\"T_5c295_row6_col3\" class=\"data row6 col3\" >999.000000</td>\n",
              "      <td id=\"T_5c295_row6_col4\" class=\"data row6 col4\" >0.000000</td>\n",
              "      <td id=\"T_5c295_row6_col5\" class=\"data row6 col5\" >1.400000</td>\n",
              "      <td id=\"T_5c295_row6_col6\" class=\"data row6 col6\" >93.994000</td>\n",
              "      <td id=\"T_5c295_row6_col7\" class=\"data row6 col7\" >-36.400000</td>\n",
              "      <td id=\"T_5c295_row6_col8\" class=\"data row6 col8\" >4.961000</td>\n",
              "      <td id=\"T_5c295_row6_col9\" class=\"data row6 col9\" >5228.100000</td>\n",
              "    </tr>\n",
              "    <tr>\n",
              "      <th id=\"T_5c295_level0_row7\" class=\"row_heading level0 row7\" >max</th>\n",
              "      <td id=\"T_5c295_row7_col0\" class=\"data row7 col0\" >98.000000</td>\n",
              "      <td id=\"T_5c295_row7_col1\" class=\"data row7 col1\" >4918.000000</td>\n",
              "      <td id=\"T_5c295_row7_col2\" class=\"data row7 col2\" >56.000000</td>\n",
              "      <td id=\"T_5c295_row7_col3\" class=\"data row7 col3\" >999.000000</td>\n",
              "      <td id=\"T_5c295_row7_col4\" class=\"data row7 col4\" >7.000000</td>\n",
              "      <td id=\"T_5c295_row7_col5\" class=\"data row7 col5\" >1.400000</td>\n",
              "      <td id=\"T_5c295_row7_col6\" class=\"data row7 col6\" >94.767000</td>\n",
              "      <td id=\"T_5c295_row7_col7\" class=\"data row7 col7\" >-26.900000</td>\n",
              "      <td id=\"T_5c295_row7_col8\" class=\"data row7 col8\" >5.045000</td>\n",
              "      <td id=\"T_5c295_row7_col9\" class=\"data row7 col9\" >5228.100000</td>\n",
              "    </tr>\n",
              "  </tbody>\n",
              "</table>\n"
            ]
          },
          "metadata": {},
          "execution_count": 78
        }
      ]
    },
    {
      "cell_type": "code",
      "source": [
        "# show infomaion data\n",
        "def missing_value(x):\n",
        "    listSummary = []\n",
        "    for i in x.columns:\n",
        "        row = x[i].shape[0]\n",
        "        missingVal = x[i].isna().sum()\n",
        "        unique = len(x[i].unique())\n",
        "        typeCol = str(x[i].dtype)\n",
        "        percentageMissingVal = x[i].isna().sum()/x.shape[0]*100\n",
        "        listSummary.append([i, row,typeCol,unique, missingVal, percentageMissingVal])\n",
        "    return pd.DataFrame(listSummary, columns = ['Name Columns', 'Total row', 'type col', 'Total unique', 'Total miss val', 'percentage missing value'])\n"
      ],
      "metadata": {
        "id": "3u1C0ylNeFG0"
      },
      "execution_count": null,
      "outputs": []
    },
    {
      "cell_type": "code",
      "source": [
        "missing_value(df)"
      ],
      "metadata": {
        "colab": {
          "base_uri": "https://localhost:8080/",
          "height": 708
        },
        "id": "Lv3gziMyeKLy",
        "outputId": "4655cb37-edb1-4038-efe9-c6ef76257a84"
      },
      "execution_count": null,
      "outputs": [
        {
          "output_type": "execute_result",
          "data": {
            "text/plain": [
              "      Name Columns  Total row type col  Total unique  Total miss val  \\\n",
              "0              age      41188    int64            78               0   \n",
              "1              job      41188   object            12               0   \n",
              "2          marital      41188   object             4               0   \n",
              "3        education      41188   object             8               0   \n",
              "4          default      41188   object             3               0   \n",
              "5          housing      41188   object             3               0   \n",
              "6             loan      41188   object             3               0   \n",
              "7          contact      41188   object             2               0   \n",
              "8            month      41188   object            10               0   \n",
              "9      day_of_week      41188   object             5               0   \n",
              "10        duration      41188    int64          1544               0   \n",
              "11        campaign      41188    int64            42               0   \n",
              "12           pdays      41188    int64            27               0   \n",
              "13        previous      41188    int64             8               0   \n",
              "14        poutcome      41188   object             3               0   \n",
              "15    emp.var.rate      41188  float64            10               0   \n",
              "16  cons.price.idx      41188  float64            26               0   \n",
              "17   cons.conf.idx      41188  float64            26               0   \n",
              "18       euribor3m      41188  float64           316               0   \n",
              "19     nr.employed      41188  float64            11               0   \n",
              "20               y      41188   object             2               0   \n",
              "\n",
              "    percentage missing value  \n",
              "0                        0.0  \n",
              "1                        0.0  \n",
              "2                        0.0  \n",
              "3                        0.0  \n",
              "4                        0.0  \n",
              "5                        0.0  \n",
              "6                        0.0  \n",
              "7                        0.0  \n",
              "8                        0.0  \n",
              "9                        0.0  \n",
              "10                       0.0  \n",
              "11                       0.0  \n",
              "12                       0.0  \n",
              "13                       0.0  \n",
              "14                       0.0  \n",
              "15                       0.0  \n",
              "16                       0.0  \n",
              "17                       0.0  \n",
              "18                       0.0  \n",
              "19                       0.0  \n",
              "20                       0.0  "
            ],
            "text/html": [
              "\n",
              "  <div id=\"df-5d15a2ca-7510-4651-a947-8a654e2f92e7\">\n",
              "    <div class=\"colab-df-container\">\n",
              "      <div>\n",
              "<style scoped>\n",
              "    .dataframe tbody tr th:only-of-type {\n",
              "        vertical-align: middle;\n",
              "    }\n",
              "\n",
              "    .dataframe tbody tr th {\n",
              "        vertical-align: top;\n",
              "    }\n",
              "\n",
              "    .dataframe thead th {\n",
              "        text-align: right;\n",
              "    }\n",
              "</style>\n",
              "<table border=\"1\" class=\"dataframe\">\n",
              "  <thead>\n",
              "    <tr style=\"text-align: right;\">\n",
              "      <th></th>\n",
              "      <th>Name Columns</th>\n",
              "      <th>Total row</th>\n",
              "      <th>type col</th>\n",
              "      <th>Total unique</th>\n",
              "      <th>Total miss val</th>\n",
              "      <th>percentage missing value</th>\n",
              "    </tr>\n",
              "  </thead>\n",
              "  <tbody>\n",
              "    <tr>\n",
              "      <th>0</th>\n",
              "      <td>age</td>\n",
              "      <td>41188</td>\n",
              "      <td>int64</td>\n",
              "      <td>78</td>\n",
              "      <td>0</td>\n",
              "      <td>0.0</td>\n",
              "    </tr>\n",
              "    <tr>\n",
              "      <th>1</th>\n",
              "      <td>job</td>\n",
              "      <td>41188</td>\n",
              "      <td>object</td>\n",
              "      <td>12</td>\n",
              "      <td>0</td>\n",
              "      <td>0.0</td>\n",
              "    </tr>\n",
              "    <tr>\n",
              "      <th>2</th>\n",
              "      <td>marital</td>\n",
              "      <td>41188</td>\n",
              "      <td>object</td>\n",
              "      <td>4</td>\n",
              "      <td>0</td>\n",
              "      <td>0.0</td>\n",
              "    </tr>\n",
              "    <tr>\n",
              "      <th>3</th>\n",
              "      <td>education</td>\n",
              "      <td>41188</td>\n",
              "      <td>object</td>\n",
              "      <td>8</td>\n",
              "      <td>0</td>\n",
              "      <td>0.0</td>\n",
              "    </tr>\n",
              "    <tr>\n",
              "      <th>4</th>\n",
              "      <td>default</td>\n",
              "      <td>41188</td>\n",
              "      <td>object</td>\n",
              "      <td>3</td>\n",
              "      <td>0</td>\n",
              "      <td>0.0</td>\n",
              "    </tr>\n",
              "    <tr>\n",
              "      <th>5</th>\n",
              "      <td>housing</td>\n",
              "      <td>41188</td>\n",
              "      <td>object</td>\n",
              "      <td>3</td>\n",
              "      <td>0</td>\n",
              "      <td>0.0</td>\n",
              "    </tr>\n",
              "    <tr>\n",
              "      <th>6</th>\n",
              "      <td>loan</td>\n",
              "      <td>41188</td>\n",
              "      <td>object</td>\n",
              "      <td>3</td>\n",
              "      <td>0</td>\n",
              "      <td>0.0</td>\n",
              "    </tr>\n",
              "    <tr>\n",
              "      <th>7</th>\n",
              "      <td>contact</td>\n",
              "      <td>41188</td>\n",
              "      <td>object</td>\n",
              "      <td>2</td>\n",
              "      <td>0</td>\n",
              "      <td>0.0</td>\n",
              "    </tr>\n",
              "    <tr>\n",
              "      <th>8</th>\n",
              "      <td>month</td>\n",
              "      <td>41188</td>\n",
              "      <td>object</td>\n",
              "      <td>10</td>\n",
              "      <td>0</td>\n",
              "      <td>0.0</td>\n",
              "    </tr>\n",
              "    <tr>\n",
              "      <th>9</th>\n",
              "      <td>day_of_week</td>\n",
              "      <td>41188</td>\n",
              "      <td>object</td>\n",
              "      <td>5</td>\n",
              "      <td>0</td>\n",
              "      <td>0.0</td>\n",
              "    </tr>\n",
              "    <tr>\n",
              "      <th>10</th>\n",
              "      <td>duration</td>\n",
              "      <td>41188</td>\n",
              "      <td>int64</td>\n",
              "      <td>1544</td>\n",
              "      <td>0</td>\n",
              "      <td>0.0</td>\n",
              "    </tr>\n",
              "    <tr>\n",
              "      <th>11</th>\n",
              "      <td>campaign</td>\n",
              "      <td>41188</td>\n",
              "      <td>int64</td>\n",
              "      <td>42</td>\n",
              "      <td>0</td>\n",
              "      <td>0.0</td>\n",
              "    </tr>\n",
              "    <tr>\n",
              "      <th>12</th>\n",
              "      <td>pdays</td>\n",
              "      <td>41188</td>\n",
              "      <td>int64</td>\n",
              "      <td>27</td>\n",
              "      <td>0</td>\n",
              "      <td>0.0</td>\n",
              "    </tr>\n",
              "    <tr>\n",
              "      <th>13</th>\n",
              "      <td>previous</td>\n",
              "      <td>41188</td>\n",
              "      <td>int64</td>\n",
              "      <td>8</td>\n",
              "      <td>0</td>\n",
              "      <td>0.0</td>\n",
              "    </tr>\n",
              "    <tr>\n",
              "      <th>14</th>\n",
              "      <td>poutcome</td>\n",
              "      <td>41188</td>\n",
              "      <td>object</td>\n",
              "      <td>3</td>\n",
              "      <td>0</td>\n",
              "      <td>0.0</td>\n",
              "    </tr>\n",
              "    <tr>\n",
              "      <th>15</th>\n",
              "      <td>emp.var.rate</td>\n",
              "      <td>41188</td>\n",
              "      <td>float64</td>\n",
              "      <td>10</td>\n",
              "      <td>0</td>\n",
              "      <td>0.0</td>\n",
              "    </tr>\n",
              "    <tr>\n",
              "      <th>16</th>\n",
              "      <td>cons.price.idx</td>\n",
              "      <td>41188</td>\n",
              "      <td>float64</td>\n",
              "      <td>26</td>\n",
              "      <td>0</td>\n",
              "      <td>0.0</td>\n",
              "    </tr>\n",
              "    <tr>\n",
              "      <th>17</th>\n",
              "      <td>cons.conf.idx</td>\n",
              "      <td>41188</td>\n",
              "      <td>float64</td>\n",
              "      <td>26</td>\n",
              "      <td>0</td>\n",
              "      <td>0.0</td>\n",
              "    </tr>\n",
              "    <tr>\n",
              "      <th>18</th>\n",
              "      <td>euribor3m</td>\n",
              "      <td>41188</td>\n",
              "      <td>float64</td>\n",
              "      <td>316</td>\n",
              "      <td>0</td>\n",
              "      <td>0.0</td>\n",
              "    </tr>\n",
              "    <tr>\n",
              "      <th>19</th>\n",
              "      <td>nr.employed</td>\n",
              "      <td>41188</td>\n",
              "      <td>float64</td>\n",
              "      <td>11</td>\n",
              "      <td>0</td>\n",
              "      <td>0.0</td>\n",
              "    </tr>\n",
              "    <tr>\n",
              "      <th>20</th>\n",
              "      <td>y</td>\n",
              "      <td>41188</td>\n",
              "      <td>object</td>\n",
              "      <td>2</td>\n",
              "      <td>0</td>\n",
              "      <td>0.0</td>\n",
              "    </tr>\n",
              "  </tbody>\n",
              "</table>\n",
              "</div>\n",
              "      <button class=\"colab-df-convert\" onclick=\"convertToInteractive('df-5d15a2ca-7510-4651-a947-8a654e2f92e7')\"\n",
              "              title=\"Convert this dataframe to an interactive table.\"\n",
              "              style=\"display:none;\">\n",
              "        \n",
              "  <svg xmlns=\"http://www.w3.org/2000/svg\" height=\"24px\"viewBox=\"0 0 24 24\"\n",
              "       width=\"24px\">\n",
              "    <path d=\"M0 0h24v24H0V0z\" fill=\"none\"/>\n",
              "    <path d=\"M18.56 5.44l.94 2.06.94-2.06 2.06-.94-2.06-.94-.94-2.06-.94 2.06-2.06.94zm-11 1L8.5 8.5l.94-2.06 2.06-.94-2.06-.94L8.5 2.5l-.94 2.06-2.06.94zm10 10l.94 2.06.94-2.06 2.06-.94-2.06-.94-.94-2.06-.94 2.06-2.06.94z\"/><path d=\"M17.41 7.96l-1.37-1.37c-.4-.4-.92-.59-1.43-.59-.52 0-1.04.2-1.43.59L10.3 9.45l-7.72 7.72c-.78.78-.78 2.05 0 2.83L4 21.41c.39.39.9.59 1.41.59.51 0 1.02-.2 1.41-.59l7.78-7.78 2.81-2.81c.8-.78.8-2.07 0-2.86zM5.41 20L4 18.59l7.72-7.72 1.47 1.35L5.41 20z\"/>\n",
              "  </svg>\n",
              "      </button>\n",
              "      \n",
              "  <style>\n",
              "    .colab-df-container {\n",
              "      display:flex;\n",
              "      flex-wrap:wrap;\n",
              "      gap: 12px;\n",
              "    }\n",
              "\n",
              "    .colab-df-convert {\n",
              "      background-color: #E8F0FE;\n",
              "      border: none;\n",
              "      border-radius: 50%;\n",
              "      cursor: pointer;\n",
              "      display: none;\n",
              "      fill: #1967D2;\n",
              "      height: 32px;\n",
              "      padding: 0 0 0 0;\n",
              "      width: 32px;\n",
              "    }\n",
              "\n",
              "    .colab-df-convert:hover {\n",
              "      background-color: #E2EBFA;\n",
              "      box-shadow: 0px 1px 2px rgba(60, 64, 67, 0.3), 0px 1px 3px 1px rgba(60, 64, 67, 0.15);\n",
              "      fill: #174EA6;\n",
              "    }\n",
              "\n",
              "    [theme=dark] .colab-df-convert {\n",
              "      background-color: #3B4455;\n",
              "      fill: #D2E3FC;\n",
              "    }\n",
              "\n",
              "    [theme=dark] .colab-df-convert:hover {\n",
              "      background-color: #434B5C;\n",
              "      box-shadow: 0px 1px 3px 1px rgba(0, 0, 0, 0.15);\n",
              "      filter: drop-shadow(0px 1px 2px rgba(0, 0, 0, 0.3));\n",
              "      fill: #FFFFFF;\n",
              "    }\n",
              "  </style>\n",
              "\n",
              "      <script>\n",
              "        const buttonEl =\n",
              "          document.querySelector('#df-5d15a2ca-7510-4651-a947-8a654e2f92e7 button.colab-df-convert');\n",
              "        buttonEl.style.display =\n",
              "          google.colab.kernel.accessAllowed ? 'block' : 'none';\n",
              "\n",
              "        async function convertToInteractive(key) {\n",
              "          const element = document.querySelector('#df-5d15a2ca-7510-4651-a947-8a654e2f92e7');\n",
              "          const dataTable =\n",
              "            await google.colab.kernel.invokeFunction('convertToInteractive',\n",
              "                                                     [key], {});\n",
              "          if (!dataTable) return;\n",
              "\n",
              "          const docLinkHtml = 'Like what you see? Visit the ' +\n",
              "            '<a target=\"_blank\" href=https://colab.research.google.com/notebooks/data_table.ipynb>data table notebook</a>'\n",
              "            + ' to learn more about interactive tables.';\n",
              "          element.innerHTML = '';\n",
              "          dataTable['output_type'] = 'display_data';\n",
              "          await google.colab.output.renderOutput(dataTable, element);\n",
              "          const docLink = document.createElement('div');\n",
              "          docLink.innerHTML = docLinkHtml;\n",
              "          element.appendChild(docLink);\n",
              "        }\n",
              "      </script>\n",
              "    </div>\n",
              "  </div>\n",
              "  "
            ]
          },
          "metadata": {},
          "execution_count": 80
        }
      ]
    },
    {
      "cell_type": "markdown",
      "source": [
        "Take-away: \n",
        "- the dataset is not missing value.<br>\n",
        "- the dataset have 13 feature is dtypes 'categorical'.<br>\n",
        "- the dataset have 8 feature is dtypes 'numerical'. <br>"
      ],
      "metadata": {
        "id": "lKurwfjJ641K"
      }
    },
    {
      "cell_type": "code",
      "source": [
        "nameObj = df.select_dtypes('object').columns\n",
        "for i in nameObj:\n",
        "    print('=============================', i, '========================')\n",
        "    print(df[i].value_counts())"
      ],
      "metadata": {
        "id": "S2LhCMAJeNJ4",
        "colab": {
          "base_uri": "https://localhost:8080/"
        },
        "outputId": "7f539508-2b01-4df5-8b15-c8f793627fa1"
      },
      "execution_count": null,
      "outputs": [
        {
          "output_type": "stream",
          "name": "stdout",
          "text": [
            "============================= job ========================\n",
            "admin.           10422\n",
            "blue-collar       9254\n",
            "technician        6743\n",
            "services          3969\n",
            "management        2924\n",
            "retired           1720\n",
            "entrepreneur      1456\n",
            "self-employed     1421\n",
            "housemaid         1060\n",
            "unemployed        1014\n",
            "student            875\n",
            "unknown            330\n",
            "Name: job, dtype: int64\n",
            "============================= marital ========================\n",
            "married     24928\n",
            "single      11568\n",
            "divorced     4612\n",
            "unknown        80\n",
            "Name: marital, dtype: int64\n",
            "============================= education ========================\n",
            "university.degree      12168\n",
            "high.school             9515\n",
            "basic.9y                6045\n",
            "professional.course     5243\n",
            "basic.4y                4176\n",
            "basic.6y                2292\n",
            "unknown                 1731\n",
            "illiterate                18\n",
            "Name: education, dtype: int64\n",
            "============================= default ========================\n",
            "no         32588\n",
            "unknown     8597\n",
            "yes            3\n",
            "Name: default, dtype: int64\n",
            "============================= housing ========================\n",
            "yes        21576\n",
            "no         18622\n",
            "unknown      990\n",
            "Name: housing, dtype: int64\n",
            "============================= loan ========================\n",
            "no         33950\n",
            "yes         6248\n",
            "unknown      990\n",
            "Name: loan, dtype: int64\n",
            "============================= contact ========================\n",
            "cellular     26144\n",
            "telephone    15044\n",
            "Name: contact, dtype: int64\n",
            "============================= month ========================\n",
            "may    13769\n",
            "jul     7174\n",
            "aug     6178\n",
            "jun     5318\n",
            "nov     4101\n",
            "apr     2632\n",
            "oct      718\n",
            "sep      570\n",
            "mar      546\n",
            "dec      182\n",
            "Name: month, dtype: int64\n",
            "============================= day_of_week ========================\n",
            "thu    8623\n",
            "mon    8514\n",
            "wed    8134\n",
            "tue    8090\n",
            "fri    7827\n",
            "Name: day_of_week, dtype: int64\n",
            "============================= poutcome ========================\n",
            "nonexistent    35563\n",
            "failure         4252\n",
            "success         1373\n",
            "Name: poutcome, dtype: int64\n",
            "============================= y ========================\n",
            "no     36548\n",
            "yes     4640\n",
            "Name: y, dtype: int64\n"
          ]
        }
      ]
    },
    {
      "cell_type": "code",
      "source": [
        "fig = plt.figure(figsize=(15,8))\n",
        "plt.subplot(1,2,1)\n",
        "# define Seaborn color palette to use\n",
        "palette_color = sns.color_palette(\"flare\")\n",
        "plt.title('percentage deposit')\n",
        "# plotting data on chart\n",
        "plt.pie(df['y'].value_counts().values, labels=df['y'].value_counts().index, colors=palette_color, autopct='%.0f%%')\n",
        "  \n",
        "\n",
        "\n",
        "plt.subplot(1,2,2)\n",
        "# define Seaborn color palette to use\n",
        "palette_color = sns.color_palette(\"light:#5A9\")\n",
        "plt.title('percentage poutcome')\n",
        "# plotting data on chart\n",
        "plt.pie(df['poutcome'].value_counts().values, labels=df['poutcome'].value_counts().index, colors=palette_color, autopct='%.0f%%')\n",
        "  \n",
        "# displaying chart\n",
        "plt.show()"
      ],
      "metadata": {
        "colab": {
          "base_uri": "https://localhost:8080/",
          "height": 427
        },
        "id": "fCngFzyCeWIu",
        "outputId": "7de59282-07df-4055-9c48-f9294a5b200c"
      },
      "execution_count": null,
      "outputs": [
        {
          "output_type": "display_data",
          "data": {
            "text/plain": [
              "<Figure size 1080x576 with 2 Axes>"
            ],
            "image/png": "[encoded data removed]"
          },
          "metadata": {}
        }
      ]
    },
    {
      "cell_type": "markdown",
      "source": [
        "# IV. problem\n",
        "- The marketing campaigns were based on phone calls. Often, more than one contact to the same client was required, in order to access if the product (bank term deposit) would be (or not) subscribed.\n",
        "- Based on the dataset. we can diagnostic this data having the problem about marketing direct don't effective."
      ],
      "metadata": {
        "id": "PJAHkYu-3pSq"
      }
    },
    {
      "cell_type": "markdown",
      "source": [
        "# V. Find relationship between feature to deposit"
      ],
      "metadata": {
        "id": "6Ptu6Pmm8Kva"
      }
    },
    {
      "cell_type": "markdown",
      "source": [
        "*Cotegorical*"
      ],
      "metadata": {
        "id": "jL11Opzi8hUR"
      }
    },
    {
      "cell_type": "code",
      "source": [
        "categoricalFeature = [feature for feature in df.select_dtypes('object').columns if (feature not in ['y'])]"
      ],
      "metadata": {
        "id": "6XJFm5TJg0DS"
      },
      "execution_count": null,
      "outputs": []
    },
    {
      "cell_type": "code",
      "source": [
        "fig = plt.figure(figsize = (25,70))\n",
        "plotNumber = 1\n",
        "for feature in categoricalFeature:\n",
        "    ax = plt.subplot(10,5, plotNumber)\n",
        "    sns.countplot(y = feature, data = df)\n",
        "    plt.title(feature)\n",
        "    plt.xlabel(feature)\n",
        "    plotNumber +=1\n",
        "plt.show()"
      ],
      "metadata": {
        "colab": {
          "base_uri": "https://localhost:8080/",
          "height": 588
        },
        "id": "QiiVw3cZ8ldh",
        "outputId": "0d321f85-a620-483e-a443-bd9025c3a5b7"
      },
      "execution_count": null,
      "outputs": [
        {
          "output_type": "display_data",
          "data": {
            "text/plain": [
              "<Figure size 1800x5040 with 10 Axes>"
            ],
            "image/png": "[encoded data removed]"
          },
          "metadata": {
            "needs_background": "light"
          }
        }
      ]
    },
    {
      "cell_type": "code",
      "source": [
        "fig = plt.figure(figsize = (15,80))\n",
        "for feature in categoricalFeature:\n",
        "    sns.catplot(x=\"y\", col=feature, kind='count', data=df)\n",
        "plt.show()"
      ],
      "metadata": {
        "colab": {
          "base_uri": "https://localhost:8080/",
          "height": 1000
        },
        "id": "P-r7aiEa8n0L",
        "outputId": "516277cb-1420-45aa-9e81-6e11f07a7791"
      },
      "execution_count": null,
      "outputs": [
        {
          "output_type": "display_data",
          "data": {
            "text/plain": [
              "<Figure size 1080x5760 with 0 Axes>"
            ]
          },
          "metadata": {}
        },
        {
          "output_type": "display_data",
          "data": {
            "text/plain": [
              "<Figure size 4320x360 with 12 Axes>"
            ],
            "image/png": "[encoded data removed]"
          },
          "metadata": {
            "needs_background": "light"
          }
        },
        {
          "output_type": "display_data",
          "data": {
            "text/plain": [
              "<Figure size 1440x360 with 4 Axes>"
            ],
            "image/png": "[encoded data removed]"
          },
          "metadata": {
            "needs_background": "light"
          }
        },
        {
          "output_type": "display_data",
          "data": {
            "text/plain": [
              "<Figure size 2880x360 with 8 Axes>"
            ],
            "image/png": "[encoded data removed]"
          },
          "metadata": {
            "needs_background": "light"
          }
        },
        {
          "output_type": "display_data",
          "data": {
            "text/plain": [
              "<Figure size 1080x360 with 3 Axes>"
            ],
            "image/png": "[encoded data removed]"
          },
          "metadata": {
            "needs_background": "light"
          }
        },
        {
          "output_type": "display_data",
          "data": {
            "text/plain": [
              "<Figure size 1080x360 with 3 Axes>"
            ],
            "image/png": "[encoded data removed]"
          },
          "metadata": {
            "needs_background": "light"
          }
        },
        {
          "output_type": "display_data",
          "data": {
            "text/plain": [
              "<Figure size 1080x360 with 3 Axes>"
            ],
            "image/png": "[encoded data removed]"
          },
          "metadata": {
            "needs_background": "light"
          }
        },
        {
          "output_type": "display_data",
          "data": {
            "text/plain": [
              "<Figure size 720x360 with 2 Axes>"
            ],
            "image/png": "[encoded data removed]"
          },
          "metadata": {
            "needs_background": "light"
          }
        },
        {
          "output_type": "display_data",
          "data": {
            "text/plain": [
              "<Figure size 3600x360 with 10 Axes>"
            ],
            "image/png": "[encoded data removed]"
          },
          "metadata": {
            "needs_background": "light"
          }
        },
        {
          "output_type": "display_data",
          "data": {
            "text/plain": [
              "<Figure size 1800x360 with 5 Axes>"
            ],
            "image/png": "[encoded data removed]"
          },
          "metadata": {
            "needs_background": "light"
          }
        },
        {
          "output_type": "display_data",
          "data": {
            "text/plain": [
              "<Figure size 1080x360 with 3 Axes>"
            ],
            "image/png": "[encoded data removed]"
          },
          "metadata": {
            "needs_background": "light"
          }
        }
      ]
    },
    {
      "cell_type": "markdown",
      "source": [
        "*numerical*"
      ],
      "metadata": {
        "id": "CK_xyXrPaOKi"
      }
    },
    {
      "cell_type": "code",
      "source": [
        "numericalFeature = [feature for feature in df.select_dtypes([np.int, np.float]) ]"
      ],
      "metadata": {
        "id": "LiA0K9nE9vTv",
        "colab": {
          "base_uri": "https://localhost:8080/"
        },
        "outputId": "b2faa7c9-6300-4bc4-ea36-de6a1b0e4e7b"
      },
      "execution_count": null,
      "outputs": [
        {
          "output_type": "stream",
          "name": "stderr",
          "text": [
            "/usr/local/lib/python3.7/dist-packages/ipykernel_launcher.py:1: DeprecationWarning: `np.int` is a deprecated alias for the builtin `int`. To silence this warning, use `int` by itself. Doing this will not modify any behavior and is safe. When replacing `np.int`, you may wish to use e.g. `np.int64` or `np.int32` to specify the precision. If you wish to review your current use, check the release note link for additional information.\n",
            "Deprecated in NumPy 1.20; for more details and guidance: https://numpy.org/devdocs/release/1.20.0-notes.html#deprecations\n",
            "  \"\"\"Entry point for launching an IPython kernel.\n",
            "/usr/local/lib/python3.7/dist-packages/ipykernel_launcher.py:1: DeprecationWarning: `np.float` is a deprecated alias for the builtin `float`. To silence this warning, use `float` by itself. Doing this will not modify any behavior and is safe. If you specifically wanted the numpy scalar type, use `np.float64` here.\n",
            "Deprecated in NumPy 1.20; for more details and guidance: https://numpy.org/devdocs/release/1.20.0-notes.html#deprecations\n",
            "  \"\"\"Entry point for launching an IPython kernel.\n"
          ]
        }
      ]
    },
    {
      "cell_type": "code",
      "source": [
        "fig = plt.figure(figsize = (15,80))\n",
        "numberPlot = 1\n",
        "for feature in numericalFeature:\n",
        "    plt.subplot(12,3, numberPlot)\n",
        "    sns.boxplot(df[feature])\n",
        "    plt.xlabel(feature)\n",
        "    numberPlot += 1\n",
        "plt.show()"
      ],
      "metadata": {
        "colab": {
          "base_uri": "https://localhost:8080/",
          "height": 1000
        },
        "id": "Qq0u32F9aYUW",
        "outputId": "8182afb5-22ed-4bd4-9374-753d95734775"
      },
      "execution_count": null,
      "outputs": [
        {
          "output_type": "stream",
          "name": "stderr",
          "text": [
            "/usr/local/lib/python3.7/dist-packages/seaborn/_decorators.py:43: FutureWarning: Pass the following variable as a keyword arg: x. From version 0.12, the only valid positional argument will be `data`, and passing other arguments without an explicit keyword will result in an error or misinterpretation.\n",
            "  FutureWarning\n",
            "/usr/local/lib/python3.7/dist-packages/seaborn/_decorators.py:43: FutureWarning: Pass the following variable as a keyword arg: x. From version 0.12, the only valid positional argument will be `data`, and passing other arguments without an explicit keyword will result in an error or misinterpretation.\n",
            "  FutureWarning\n",
            "/usr/local/lib/python3.7/dist-packages/seaborn/_decorators.py:43: FutureWarning: Pass the following variable as a keyword arg: x. From version 0.12, the only valid positional argument will be `data`, and passing other arguments without an explicit keyword will result in an error or misinterpretation.\n",
            "  FutureWarning\n",
            "/usr/local/lib/python3.7/dist-packages/seaborn/_decorators.py:43: FutureWarning: Pass the following variable as a keyword arg: x. From version 0.12, the only valid positional argument will be `data`, and passing other arguments without an explicit keyword will result in an error or misinterpretation.\n",
            "  FutureWarning\n",
            "/usr/local/lib/python3.7/dist-packages/seaborn/_decorators.py:43: FutureWarning: Pass the following variable as a keyword arg: x. From version 0.12, the only valid positional argument will be `data`, and passing other arguments without an explicit keyword will result in an error or misinterpretation.\n",
            "  FutureWarning\n",
            "/usr/local/lib/python3.7/dist-packages/seaborn/_decorators.py:43: FutureWarning: Pass the following variable as a keyword arg: x. From version 0.12, the only valid positional argument will be `data`, and passing other arguments without an explicit keyword will result in an error or misinterpretation.\n",
            "  FutureWarning\n",
            "/usr/local/lib/python3.7/dist-packages/seaborn/_decorators.py:43: FutureWarning: Pass the following variable as a keyword arg: x. From version 0.12, the only valid positional argument will be `data`, and passing other arguments without an explicit keyword will result in an error or misinterpretation.\n",
            "  FutureWarning\n",
            "/usr/local/lib/python3.7/dist-packages/seaborn/_decorators.py:43: FutureWarning: Pass the following variable as a keyword arg: x. From version 0.12, the only valid positional argument will be `data`, and passing other arguments without an explicit keyword will result in an error or misinterpretation.\n",
            "  FutureWarning\n",
            "/usr/local/lib/python3.7/dist-packages/seaborn/_decorators.py:43: FutureWarning: Pass the following variable as a keyword arg: x. From version 0.12, the only valid positional argument will be `data`, and passing other arguments without an explicit keyword will result in an error or misinterpretation.\n",
            "  FutureWarning\n",
            "/usr/local/lib/python3.7/dist-packages/seaborn/_decorators.py:43: FutureWarning: Pass the following variable as a keyword arg: x. From version 0.12, the only valid positional argument will be `data`, and passing other arguments without an explicit keyword will result in an error or misinterpretation.\n",
            "  FutureWarning\n"
          ]
        },
        {
          "output_type": "display_data",
          "data": {
            "text/plain": [
              "<Figure size 1080x5760 with 10 Axes>"
            ],
            "image/png": "[encoded data removed]"
          },
          "metadata": {
            "needs_background": "light"
          }
        }
      ]
    },
    {
      "cell_type": "code",
      "source": [
        "fig = plt.figure(figsize = (15,80))\n",
        "plotnumber =1\n",
        "for feature in numericalFeature:\n",
        "    ax = plt.subplot(12,3,plotnumber)\n",
        "    sns.boxplot(x=\"y\", y=feature, data=df)\n",
        "    plt.xlabel(feature)\n",
        "    plotnumber+=1\n",
        "plt.show()"
      ],
      "metadata": {
        "colab": {
          "base_uri": "https://localhost:8080/",
          "height": 1000
        },
        "id": "s0U8OHLvaaVo",
        "outputId": "ebef15f6-da4b-4b3e-dd24-830ff27a5d67"
      },
      "execution_count": null,
      "outputs": [
        {
          "output_type": "display_data",
          "data": {
            "text/plain": [
              "<Figure size 1080x5760 with 10 Axes>"
            ],
            "image/png": "[encoded data removed]"
          },
          "metadata": {
            "needs_background": "light"
          }
        }
      ]
    },
    {
      "cell_type": "markdown",
      "source": [
        "### Correlation coefficient"
      ],
      "metadata": {
        "id": "NKiy3r9_ahiq"
      }
    },
    {
      "cell_type": "code",
      "source": [
        "df['deposit'] = df['y']\n",
        "df.replace({'deposit': {'no': 0, 'yes': 1}}, inplace = True)"
      ],
      "metadata": {
        "id": "KlbfdBceadVD"
      },
      "execution_count": null,
      "outputs": []
    },
    {
      "cell_type": "code",
      "source": [
        "print('correlation coefficient between y and 10 relative attributes')\n",
        "pd.DataFrame(df.corr()['deposit']).style.background_gradient()"
      ],
      "metadata": {
        "colab": {
          "base_uri": "https://localhost:8080/",
          "height": 412
        },
        "id": "3qF_XL3JaoAk",
        "outputId": "2b9384f7-513e-46a6-9867-bfdf173bff73"
      },
      "execution_count": null,
      "outputs": [
        {
          "output_type": "stream",
          "name": "stdout",
          "text": [
            "correlation coefficient between y and 10 relative attributes\n"
          ]
        },
        {
          "output_type": "execute_result",
          "data": {
            "text/plain": [
              "<pandas.io.formats.style.Styler at 0x7f48b9c0ced0>"
            ],
            "text/html": [
              "<style type=\"text/css\">\n",
              "#T_d35d6_row0_col0 {\n",
              "  background-color: #c5cce3;\n",
              "  color: #000000;\n",
              "}\n",
              "#T_d35d6_row1_col0 {\n",
              "  background-color: #569dc8;\n",
              "  color: #f1f1f1;\n",
              "}\n",
              "#T_d35d6_row2_col0 {\n",
              "  background-color: #d9d8ea;\n",
              "  color: #000000;\n",
              "}\n",
              "#T_d35d6_row3_col0 {\n",
              "  background-color: #fcf4fa;\n",
              "  color: #000000;\n",
              "}\n",
              "#T_d35d6_row4_col0 {\n",
              "  background-color: #8fb4d6;\n",
              "  color: #000000;\n",
              "}\n",
              "#T_d35d6_row5_col0 {\n",
              "  background-color: #f9f2f8;\n",
              "  color: #000000;\n",
              "}\n",
              "#T_d35d6_row6_col0 {\n",
              "  background-color: #e4e1ef;\n",
              "  color: #000000;\n",
              "}\n",
              "#T_d35d6_row7_col0 {\n",
              "  background-color: #bfc9e1;\n",
              "  color: #000000;\n",
              "}\n",
              "#T_d35d6_row8_col0 {\n",
              "  background-color: #faf3f9;\n",
              "  color: #000000;\n",
              "}\n",
              "#T_d35d6_row9_col0 {\n",
              "  background-color: #fff7fb;\n",
              "  color: #000000;\n",
              "}\n",
              "#T_d35d6_row10_col0 {\n",
              "  background-color: #023858;\n",
              "  color: #f1f1f1;\n",
              "}\n",
              "</style>\n",
              "<table id=\"T_d35d6_\" class=\"dataframe\">\n",
              "  <thead>\n",
              "    <tr>\n",
              "      <th class=\"blank level0\" >&nbsp;</th>\n",
              "      <th class=\"col_heading level0 col0\" >deposit</th>\n",
              "    </tr>\n",
              "  </thead>\n",
              "  <tbody>\n",
              "    <tr>\n",
              "      <th id=\"T_d35d6_level0_row0\" class=\"row_heading level0 row0\" >age</th>\n",
              "      <td id=\"T_d35d6_row0_col0\" class=\"data row0 col0\" >0.030399</td>\n",
              "    </tr>\n",
              "    <tr>\n",
              "      <th id=\"T_d35d6_level0_row1\" class=\"row_heading level0 row1\" >duration</th>\n",
              "      <td id=\"T_d35d6_row1_col0\" class=\"data row1 col0\" >0.405274</td>\n",
              "    </tr>\n",
              "    <tr>\n",
              "      <th id=\"T_d35d6_level0_row2\" class=\"row_heading level0 row2\" >campaign</th>\n",
              "      <td id=\"T_d35d6_row2_col0\" class=\"data row2 col0\" >-0.066357</td>\n",
              "    </tr>\n",
              "    <tr>\n",
              "      <th id=\"T_d35d6_level0_row3\" class=\"row_heading level0 row3\" >pdays</th>\n",
              "      <td id=\"T_d35d6_row3_col0\" class=\"data row3 col0\" >-0.324914</td>\n",
              "    </tr>\n",
              "    <tr>\n",
              "      <th id=\"T_d35d6_level0_row4\" class=\"row_heading level0 row4\" >previous</th>\n",
              "      <td id=\"T_d35d6_row4_col0\" class=\"data row4 col0\" >0.230181</td>\n",
              "    </tr>\n",
              "    <tr>\n",
              "      <th id=\"T_d35d6_level0_row5\" class=\"row_heading level0 row5\" >emp.var.rate</th>\n",
              "      <td id=\"T_d35d6_row5_col0\" class=\"data row5 col0\" >-0.298334</td>\n",
              "    </tr>\n",
              "    <tr>\n",
              "      <th id=\"T_d35d6_level0_row6\" class=\"row_heading level0 row6\" >cons.price.idx</th>\n",
              "      <td id=\"T_d35d6_row6_col0\" class=\"data row6 col0\" >-0.136211</td>\n",
              "    </tr>\n",
              "    <tr>\n",
              "      <th id=\"T_d35d6_level0_row7\" class=\"row_heading level0 row7\" >cons.conf.idx</th>\n",
              "      <td id=\"T_d35d6_row7_col0\" class=\"data row7 col0\" >0.054878</td>\n",
              "    </tr>\n",
              "    <tr>\n",
              "      <th id=\"T_d35d6_level0_row8\" class=\"row_heading level0 row8\" >euribor3m</th>\n",
              "      <td id=\"T_d35d6_row8_col0\" class=\"data row8 col0\" >-0.307771</td>\n",
              "    </tr>\n",
              "    <tr>\n",
              "      <th id=\"T_d35d6_level0_row9\" class=\"row_heading level0 row9\" >nr.employed</th>\n",
              "      <td id=\"T_d35d6_row9_col0\" class=\"data row9 col0\" >-0.354678</td>\n",
              "    </tr>\n",
              "    <tr>\n",
              "      <th id=\"T_d35d6_level0_row10\" class=\"row_heading level0 row10\" >deposit</th>\n",
              "      <td id=\"T_d35d6_row10_col0\" class=\"data row10 col0\" >1.000000</td>\n",
              "    </tr>\n",
              "  </tbody>\n",
              "</table>\n"
            ]
          },
          "metadata": {},
          "execution_count": 90
        }
      ]
    },
    {
      "cell_type": "markdown",
      "source": [
        "### Take-away:<br>\n",
        "- Categorical:<br>\n",
        "Take a further look.we determine that several of the following variables arre of no consequence to the marketing campaign's. For example. feature housing, loan, contact is involving deposit.\n",
        "- Numerical:<br>\n",
        "favorable: age, previous, cons.conf.idx<br>\n",
        "inverse: campaign, pdays, emp.var.rate, cons.price.idx, nr.employed"
      ],
      "metadata": {
        "id": "pLU7C6Fb96Ln"
      }
    },
    {
      "cell_type": "markdown",
      "source": [
        "# VI. Reducing reduntant data <br>"
      ],
      "metadata": {
        "id": "UIWUxRwJbiGu"
      }
    },
    {
      "cell_type": "code",
      "source": [
        "cols_to_include = ['age', 'job','marital', 'education', 'default','month', 'cons.price.idx', 'euribor3m', 'campaign', 'poutcome', 'deposit']\n",
        "\n",
        "data = df[cols_to_include]\n",
        "data.head()"
      ],
      "metadata": {
        "colab": {
          "base_uri": "https://localhost:8080/",
          "height": 206
        },
        "id": "fv26PuNKa0QQ",
        "outputId": "2bf35480-9eac-4ee6-ad38-9aea3c1e1f57"
      },
      "execution_count": null,
      "outputs": [
        {
          "output_type": "execute_result",
          "data": {
            "text/plain": [
              "   age        job  marital    education  default month  cons.price.idx  \\\n",
              "0   56  housemaid  married     basic.4y       no   may          93.994   \n",
              "1   57   services  married  high.school  unknown   may          93.994   \n",
              "2   37   services  married  high.school       no   may          93.994   \n",
              "3   40     admin.  married     basic.6y       no   may          93.994   \n",
              "4   56   services  married  high.school       no   may          93.994   \n",
              "\n",
              "   euribor3m  campaign     poutcome  deposit  \n",
              "0      4.857         1  nonexistent        0  \n",
              "1      4.857         1  nonexistent        0  \n",
              "2      4.857         1  nonexistent        0  \n",
              "3      4.857         1  nonexistent        0  \n",
              "4      4.857         1  nonexistent        0  "
            ],
            "text/html": [
              "\n",
              "  <div id=\"df-919d967d-a7ff-45bf-8730-012d5e1c24a0\">\n",
              "    <div class=\"colab-df-container\">\n",
              "      <div>\n",
              "<style scoped>\n",
              "    .dataframe tbody tr th:only-of-type {\n",
              "        vertical-align: middle;\n",
              "    }\n",
              "\n",
              "    .dataframe tbody tr th {\n",
              "        vertical-align: top;\n",
              "    }\n",
              "\n",
              "    .dataframe thead th {\n",
              "        text-align: right;\n",
              "    }\n",
              "</style>\n",
              "<table border=\"1\" class=\"dataframe\">\n",
              "  <thead>\n",
              "    <tr style=\"text-align: right;\">\n",
              "      <th></th>\n",
              "      <th>age</th>\n",
              "      <th>job</th>\n",
              "      <th>marital</th>\n",
              "      <th>education</th>\n",
              "      <th>default</th>\n",
              "      <th>month</th>\n",
              "      <th>cons.price.idx</th>\n",
              "      <th>euribor3m</th>\n",
              "      <th>campaign</th>\n",
              "      <th>poutcome</th>\n",
              "      <th>deposit</th>\n",
              "    </tr>\n",
              "  </thead>\n",
              "  <tbody>\n",
              "    <tr>\n",
              "      <th>0</th>\n",
              "      <td>56</td>\n",
              "      <td>housemaid</td>\n",
              "      <td>married</td>\n",
              "      <td>basic.4y</td>\n",
              "      <td>no</td>\n",
              "      <td>may</td>\n",
              "      <td>93.994</td>\n",
              "      <td>4.857</td>\n",
              "      <td>1</td>\n",
              "      <td>nonexistent</td>\n",
              "      <td>0</td>\n",
              "    </tr>\n",
              "    <tr>\n",
              "      <th>1</th>\n",
              "      <td>57</td>\n",
              "      <td>services</td>\n",
              "      <td>married</td>\n",
              "      <td>high.school</td>\n",
              "      <td>unknown</td>\n",
              "      <td>may</td>\n",
              "      <td>93.994</td>\n",
              "      <td>4.857</td>\n",
              "      <td>1</td>\n",
              "      <td>nonexistent</td>\n",
              "      <td>0</td>\n",
              "    </tr>\n",
              "    <tr>\n",
              "      <th>2</th>\n",
              "      <td>37</td>\n",
              "      <td>services</td>\n",
              "      <td>married</td>\n",
              "      <td>high.school</td>\n",
              "      <td>no</td>\n",
              "      <td>may</td>\n",
              "      <td>93.994</td>\n",
              "      <td>4.857</td>\n",
              "      <td>1</td>\n",
              "      <td>nonexistent</td>\n",
              "      <td>0</td>\n",
              "    </tr>\n",
              "    <tr>\n",
              "      <th>3</th>\n",
              "      <td>40</td>\n",
              "      <td>admin.</td>\n",
              "      <td>married</td>\n",
              "      <td>basic.6y</td>\n",
              "      <td>no</td>\n",
              "      <td>may</td>\n",
              "      <td>93.994</td>\n",
              "      <td>4.857</td>\n",
              "      <td>1</td>\n",
              "      <td>nonexistent</td>\n",
              "      <td>0</td>\n",
              "    </tr>\n",
              "    <tr>\n",
              "      <th>4</th>\n",
              "      <td>56</td>\n",
              "      <td>services</td>\n",
              "      <td>married</td>\n",
              "      <td>high.school</td>\n",
              "      <td>no</td>\n",
              "      <td>may</td>\n",
              "      <td>93.994</td>\n",
              "      <td>4.857</td>\n",
              "      <td>1</td>\n",
              "      <td>nonexistent</td>\n",
              "      <td>0</td>\n",
              "    </tr>\n",
              "  </tbody>\n",
              "</table>\n",
              "</div>\n",
              "      <button class=\"colab-df-convert\" onclick=\"convertToInteractive('df-919d967d-a7ff-45bf-8730-012d5e1c24a0')\"\n",
              "              title=\"Convert this dataframe to an interactive table.\"\n",
              "              style=\"display:none;\">\n",
              "        \n",
              "  <svg xmlns=\"http://www.w3.org/2000/svg\" height=\"24px\"viewBox=\"0 0 24 24\"\n",
              "       width=\"24px\">\n",
              "    <path d=\"M0 0h24v24H0V0z\" fill=\"none\"/>\n",
              "    <path d=\"M18.56 5.44l.94 2.06.94-2.06 2.06-.94-2.06-.94-.94-2.06-.94 2.06-2.06.94zm-11 1L8.5 8.5l.94-2.06 2.06-.94-2.06-.94L8.5 2.5l-.94 2.06-2.06.94zm10 10l.94 2.06.94-2.06 2.06-.94-2.06-.94-.94-2.06-.94 2.06-2.06.94z\"/><path d=\"M17.41 7.96l-1.37-1.37c-.4-.4-.92-.59-1.43-.59-.52 0-1.04.2-1.43.59L10.3 9.45l-7.72 7.72c-.78.78-.78 2.05 0 2.83L4 21.41c.39.39.9.59 1.41.59.51 0 1.02-.2 1.41-.59l7.78-7.78 2.81-2.81c.8-.78.8-2.07 0-2.86zM5.41 20L4 18.59l7.72-7.72 1.47 1.35L5.41 20z\"/>\n",
              "  </svg>\n",
              "      </button>\n",
              "      \n",
              "  <style>\n",
              "    .colab-df-container {\n",
              "      display:flex;\n",
              "      flex-wrap:wrap;\n",
              "      gap: 12px;\n",
              "    }\n",
              "\n",
              "    .colab-df-convert {\n",
              "      background-color: #E8F0FE;\n",
              "      border: none;\n",
              "      border-radius: 50%;\n",
              "      cursor: pointer;\n",
              "      display: none;\n",
              "      fill: #1967D2;\n",
              "      height: 32px;\n",
              "      padding: 0 0 0 0;\n",
              "      width: 32px;\n",
              "    }\n",
              "\n",
              "    .colab-df-convert:hover {\n",
              "      background-color: #E2EBFA;\n",
              "      box-shadow: 0px 1px 2px rgba(60, 64, 67, 0.3), 0px 1px 3px 1px rgba(60, 64, 67, 0.15);\n",
              "      fill: #174EA6;\n",
              "    }\n",
              "\n",
              "    [theme=dark] .colab-df-convert {\n",
              "      background-color: #3B4455;\n",
              "      fill: #D2E3FC;\n",
              "    }\n",
              "\n",
              "    [theme=dark] .colab-df-convert:hover {\n",
              "      background-color: #434B5C;\n",
              "      box-shadow: 0px 1px 3px 1px rgba(0, 0, 0, 0.15);\n",
              "      filter: drop-shadow(0px 1px 2px rgba(0, 0, 0, 0.3));\n",
              "      fill: #FFFFFF;\n",
              "    }\n",
              "  </style>\n",
              "\n",
              "      <script>\n",
              "        const buttonEl =\n",
              "          document.querySelector('#df-919d967d-a7ff-45bf-8730-012d5e1c24a0 button.colab-df-convert');\n",
              "        buttonEl.style.display =\n",
              "          google.colab.kernel.accessAllowed ? 'block' : 'none';\n",
              "\n",
              "        async function convertToInteractive(key) {\n",
              "          const element = document.querySelector('#df-919d967d-a7ff-45bf-8730-012d5e1c24a0');\n",
              "          const dataTable =\n",
              "            await google.colab.kernel.invokeFunction('convertToInteractive',\n",
              "                                                     [key], {});\n",
              "          if (!dataTable) return;\n",
              "\n",
              "          const docLinkHtml = 'Like what you see? Visit the ' +\n",
              "            '<a target=\"_blank\" href=https://colab.research.google.com/notebooks/data_table.ipynb>data table notebook</a>'\n",
              "            + ' to learn more about interactive tables.';\n",
              "          element.innerHTML = '';\n",
              "          dataTable['output_type'] = 'display_data';\n",
              "          await google.colab.output.renderOutput(dataTable, element);\n",
              "          const docLink = document.createElement('div');\n",
              "          docLink.innerHTML = docLinkHtml;\n",
              "          element.appendChild(docLink);\n",
              "        }\n",
              "      </script>\n",
              "    </div>\n",
              "  </div>\n",
              "  "
            ]
          },
          "metadata": {},
          "execution_count": 91
        }
      ]
    },
    {
      "cell_type": "code",
      "source": [
        "def deposit_age():\n",
        "    bins = [18, 20, 25, 30, 35, 40, 45, 50, 55, 60, 65, 70, 75]\n",
        "    names = ['18-20', '20-25', '25-30', '30-35', '35-40', '40-45', '45-50', '50-55', '55-60', '60-65', '65-70', '70-75', '75+']\n",
        "    dic = dict(enumerate(names, 1))\n",
        "    data['group_age'] = np.vectorize(dic.get)(np.digitize(df['age'],bins))\n",
        "    yesDeposit = data.loc[data['deposit'] == 1].groupby('group_age')[['deposit']].count()\n",
        "    noDeposit = data.loc[data['deposit'] == 0].groupby('group_age')[['deposit']].count()\n",
        "    \n",
        "    yesDeposit.rename(columns={'deposit':'Deposit'}, inplace=True)\n",
        "    noDeposit.rename(columns={'deposit':'no Deposit'}, inplace=True)\n",
        "    \n",
        "    merged_df = pd.concat([yesDeposit, noDeposit], axis = 1)\n",
        "    \n",
        "    merged_df.loc['Total'] = merged_df.sum(numeric_only=True, axis=0)\n",
        "    \n",
        "    merged_df['% of Deposits'] = round((merged_df['Deposit'] / (merged_df['Deposit'] \\\n",
        "                                                                + merged_df['no Deposit']))* 100, 2)\n",
        "    return merged_df.style.format(\"{:,.0f}\")\n",
        "deposit_age()"
      ],
      "metadata": {
        "colab": {
          "base_uri": "https://localhost:8080/",
          "height": 655
        },
        "id": "I-A4LZ0eboUf",
        "outputId": "46d32b58-6ee4-4289-fd2f-a246a0fd2b66"
      },
      "execution_count": null,
      "outputs": [
        {
          "output_type": "stream",
          "name": "stderr",
          "text": [
            "/usr/local/lib/python3.7/dist-packages/ipykernel_launcher.py:5: SettingWithCopyWarning: \n",
            "A value is trying to be set on a copy of a slice from a DataFrame.\n",
            "Try using .loc[row_indexer,col_indexer] = value instead\n",
            "\n",
            "See the caveats in the documentation: https://pandas.pydata.org/pandas-docs/stable/user_guide/indexing.html#returning-a-view-versus-a-copy\n",
            "  \"\"\"\n"
          ]
        },
        {
          "output_type": "execute_result",
          "data": {
            "text/plain": [
              "<pandas.io.formats.style.Styler at 0x7f48b828f290>"
            ],
            "text/html": [
              "<style type=\"text/css\">\n",
              "</style>\n",
              "<table id=\"T_10898_\" class=\"dataframe\">\n",
              "  <thead>\n",
              "    <tr>\n",
              "      <th class=\"blank level0\" >&nbsp;</th>\n",
              "      <th class=\"col_heading level0 col0\" >Deposit</th>\n",
              "      <th class=\"col_heading level0 col1\" >no Deposit</th>\n",
              "      <th class=\"col_heading level0 col2\" >% of Deposits</th>\n",
              "    </tr>\n",
              "    <tr>\n",
              "      <th class=\"index_name level0\" >group_age</th>\n",
              "      <th class=\"blank col0\" >&nbsp;</th>\n",
              "      <th class=\"blank col1\" >&nbsp;</th>\n",
              "      <th class=\"blank col2\" >&nbsp;</th>\n",
              "    </tr>\n",
              "  </thead>\n",
              "  <tbody>\n",
              "    <tr>\n",
              "      <th id=\"T_10898_level0_row0\" class=\"row_heading level0 row0\" >18-20</th>\n",
              "      <td id=\"T_10898_row0_col0\" class=\"data row0 col0\" >32</td>\n",
              "      <td id=\"T_10898_row0_col1\" class=\"data row0 col1\" >38</td>\n",
              "      <td id=\"T_10898_row0_col2\" class=\"data row0 col2\" >46</td>\n",
              "    </tr>\n",
              "    <tr>\n",
              "      <th id=\"T_10898_level0_row1\" class=\"row_heading level0 row1\" >20-25</th>\n",
              "      <td id=\"T_10898_row1_col0\" class=\"data row1 col0\" >222</td>\n",
              "      <td id=\"T_10898_row1_col1\" class=\"data row1 col1\" >771</td>\n",
              "      <td id=\"T_10898_row1_col2\" class=\"data row1 col2\" >22</td>\n",
              "    </tr>\n",
              "    <tr>\n",
              "      <th id=\"T_10898_level0_row2\" class=\"row_heading level0 row2\" >25-30</th>\n",
              "      <td id=\"T_10898_row2_col0\" class=\"data row2 col0\" >666</td>\n",
              "      <td id=\"T_10898_row2_col1\" class=\"data row2 col1\" >3,935</td>\n",
              "      <td id=\"T_10898_row2_col2\" class=\"data row2 col2\" >14</td>\n",
              "    </tr>\n",
              "    <tr>\n",
              "      <th id=\"T_10898_level0_row3\" class=\"row_heading level0 row3\" >30-35</th>\n",
              "      <td id=\"T_10898_row3_col0\" class=\"data row3 col0\" >1,000</td>\n",
              "      <td id=\"T_10898_row3_col1\" class=\"data row3 col1\" >8,085</td>\n",
              "      <td id=\"T_10898_row3_col2\" class=\"data row3 col2\" >11</td>\n",
              "    </tr>\n",
              "    <tr>\n",
              "      <th id=\"T_10898_level0_row4\" class=\"row_heading level0 row4\" >35-40</th>\n",
              "      <td id=\"T_10898_row4_col0\" class=\"data row4 col0\" >715</td>\n",
              "      <td id=\"T_10898_row4_col1\" class=\"data row4 col1\" >7,138</td>\n",
              "      <td id=\"T_10898_row4_col2\" class=\"data row4 col2\" >9</td>\n",
              "    </tr>\n",
              "    <tr>\n",
              "      <th id=\"T_10898_level0_row5\" class=\"row_heading level0 row5\" >40-45</th>\n",
              "      <td id=\"T_10898_row5_col0\" class=\"data row5 col0\" >453</td>\n",
              "      <td id=\"T_10898_row5_col1\" class=\"data row5 col1\" >5,194</td>\n",
              "      <td id=\"T_10898_row5_col2\" class=\"data row5 col2\" >8</td>\n",
              "    </tr>\n",
              "    <tr>\n",
              "      <th id=\"T_10898_level0_row6\" class=\"row_heading level0 row6\" >45-50</th>\n",
              "      <td id=\"T_10898_row6_col0\" class=\"data row6 col0\" >381</td>\n",
              "      <td id=\"T_10898_row6_col1\" class=\"data row6 col1\" >4,498</td>\n",
              "      <td id=\"T_10898_row6_col2\" class=\"data row6 col2\" >8</td>\n",
              "    </tr>\n",
              "    <tr>\n",
              "      <th id=\"T_10898_level0_row7\" class=\"row_heading level0 row7\" >50-55</th>\n",
              "      <td id=\"T_10898_row7_col0\" class=\"data row7 col0\" >372</td>\n",
              "      <td id=\"T_10898_row7_col1\" class=\"data row7 col1\" >3,453</td>\n",
              "      <td id=\"T_10898_row7_col2\" class=\"data row7 col2\" >10</td>\n",
              "    </tr>\n",
              "    <tr>\n",
              "      <th id=\"T_10898_level0_row8\" class=\"row_heading level0 row8\" >55-60</th>\n",
              "      <td id=\"T_10898_row8_col0\" class=\"data row8 col0\" >325</td>\n",
              "      <td id=\"T_10898_row8_col1\" class=\"data row8 col1\" >2,712</td>\n",
              "      <td id=\"T_10898_row8_col2\" class=\"data row8 col2\" >11</td>\n",
              "    </tr>\n",
              "    <tr>\n",
              "      <th id=\"T_10898_level0_row9\" class=\"row_heading level0 row9\" >60-65</th>\n",
              "      <td id=\"T_10898_row9_col0\" class=\"data row9 col0\" >159</td>\n",
              "      <td id=\"T_10898_row9_col1\" class=\"data row9 col1\" >371</td>\n",
              "      <td id=\"T_10898_row9_col2\" class=\"data row9 col2\" >30</td>\n",
              "    </tr>\n",
              "    <tr>\n",
              "      <th id=\"T_10898_level0_row10\" class=\"row_heading level0 row10\" >65-70</th>\n",
              "      <td id=\"T_10898_row10_col0\" class=\"data row10 col0\" >92</td>\n",
              "      <td id=\"T_10898_row10_col1\" class=\"data row10 col1\" >102</td>\n",
              "      <td id=\"T_10898_row10_col2\" class=\"data row10 col2\" >47</td>\n",
              "    </tr>\n",
              "    <tr>\n",
              "      <th id=\"T_10898_level0_row11\" class=\"row_heading level0 row11\" >70-75</th>\n",
              "      <td id=\"T_10898_row11_col0\" class=\"data row11 col0\" >81</td>\n",
              "      <td id=\"T_10898_row11_col1\" class=\"data row11 col1\" >119</td>\n",
              "      <td id=\"T_10898_row11_col2\" class=\"data row11 col2\" >40</td>\n",
              "    </tr>\n",
              "    <tr>\n",
              "      <th id=\"T_10898_level0_row12\" class=\"row_heading level0 row12\" >75+</th>\n",
              "      <td id=\"T_10898_row12_col0\" class=\"data row12 col0\" >140</td>\n",
              "      <td id=\"T_10898_row12_col1\" class=\"data row12 col1\" >129</td>\n",
              "      <td id=\"T_10898_row12_col2\" class=\"data row12 col2\" >52</td>\n",
              "    </tr>\n",
              "    <tr>\n",
              "      <th id=\"T_10898_level0_row13\" class=\"row_heading level0 row13\" >None</th>\n",
              "      <td id=\"T_10898_row13_col0\" class=\"data row13 col0\" >2</td>\n",
              "      <td id=\"T_10898_row13_col1\" class=\"data row13 col1\" >3</td>\n",
              "      <td id=\"T_10898_row13_col2\" class=\"data row13 col2\" >40</td>\n",
              "    </tr>\n",
              "    <tr>\n",
              "      <th id=\"T_10898_level0_row14\" class=\"row_heading level0 row14\" >Total</th>\n",
              "      <td id=\"T_10898_row14_col0\" class=\"data row14 col0\" >4,640</td>\n",
              "      <td id=\"T_10898_row14_col1\" class=\"data row14 col1\" >36,548</td>\n",
              "      <td id=\"T_10898_row14_col2\" class=\"data row14 col2\" >11</td>\n",
              "    </tr>\n",
              "  </tbody>\n",
              "</table>\n"
            ]
          },
          "metadata": {},
          "execution_count": 92
        }
      ]
    },
    {
      "cell_type": "markdown",
      "source": [
        "### Take-away:<br>\n",
        "- We can see. Age from 65 to 75+ and 18 to 25 having rate deposit higher than other age."
      ],
      "metadata": {
        "id": "ZyDAymfycvIq"
      }
    },
    {
      "cell_type": "code",
      "source": [
        "def marital_deposit():\n",
        "    yesDeposit = data.loc[data['deposit'] == 1].groupby('marital')[['deposit']].count()\n",
        "    noDeposit = data.loc[data['deposit'] == 0].groupby('marital')[['deposit']].count()\n",
        "    \n",
        "    yesDeposit.rename(columns={'deposit':'Deposit'}, inplace=True)\n",
        "    noDeposit.rename(columns={'deposit':'no Deposit'}, inplace=True)\n",
        "    \n",
        "    merged_df = pd.concat([yesDeposit, noDeposit], axis = 1)\n",
        "    \n",
        "    merged_df.loc['Total'] = merged_df.sum(numeric_only=True, axis=0)\n",
        "    \n",
        "    merged_df['% of Deposits'] = round((merged_df['Deposit'] / (merged_df['Deposit'] \\\n",
        "                                                                + merged_df['no Deposit']))* 100, 2)\n",
        "    return merged_df.style.format(\"{:,.0f}\")\n",
        "\n",
        "marital_deposit()"
      ],
      "metadata": {
        "colab": {
          "base_uri": "https://localhost:8080/",
          "height": 237
        },
        "id": "yUO-GxDEb3nk",
        "outputId": "016dea2b-a172-4868-ae0c-42d32dab30ed"
      },
      "execution_count": null,
      "outputs": [
        {
          "output_type": "execute_result",
          "data": {
            "text/plain": [
              "<pandas.io.formats.style.Styler at 0x7f48b9fc67d0>"
            ],
            "text/html": [
              "<style type=\"text/css\">\n",
              "</style>\n",
              "<table id=\"T_39045_\" class=\"dataframe\">\n",
              "  <thead>\n",
              "    <tr>\n",
              "      <th class=\"blank level0\" >&nbsp;</th>\n",
              "      <th class=\"col_heading level0 col0\" >Deposit</th>\n",
              "      <th class=\"col_heading level0 col1\" >no Deposit</th>\n",
              "      <th class=\"col_heading level0 col2\" >% of Deposits</th>\n",
              "    </tr>\n",
              "    <tr>\n",
              "      <th class=\"index_name level0\" >marital</th>\n",
              "      <th class=\"blank col0\" >&nbsp;</th>\n",
              "      <th class=\"blank col1\" >&nbsp;</th>\n",
              "      <th class=\"blank col2\" >&nbsp;</th>\n",
              "    </tr>\n",
              "  </thead>\n",
              "  <tbody>\n",
              "    <tr>\n",
              "      <th id=\"T_39045_level0_row0\" class=\"row_heading level0 row0\" >divorced</th>\n",
              "      <td id=\"T_39045_row0_col0\" class=\"data row0 col0\" >476</td>\n",
              "      <td id=\"T_39045_row0_col1\" class=\"data row0 col1\" >4,136</td>\n",
              "      <td id=\"T_39045_row0_col2\" class=\"data row0 col2\" >10</td>\n",
              "    </tr>\n",
              "    <tr>\n",
              "      <th id=\"T_39045_level0_row1\" class=\"row_heading level0 row1\" >married</th>\n",
              "      <td id=\"T_39045_row1_col0\" class=\"data row1 col0\" >2,532</td>\n",
              "      <td id=\"T_39045_row1_col1\" class=\"data row1 col1\" >22,396</td>\n",
              "      <td id=\"T_39045_row1_col2\" class=\"data row1 col2\" >10</td>\n",
              "    </tr>\n",
              "    <tr>\n",
              "      <th id=\"T_39045_level0_row2\" class=\"row_heading level0 row2\" >single</th>\n",
              "      <td id=\"T_39045_row2_col0\" class=\"data row2 col0\" >1,620</td>\n",
              "      <td id=\"T_39045_row2_col1\" class=\"data row2 col1\" >9,948</td>\n",
              "      <td id=\"T_39045_row2_col2\" class=\"data row2 col2\" >14</td>\n",
              "    </tr>\n",
              "    <tr>\n",
              "      <th id=\"T_39045_level0_row3\" class=\"row_heading level0 row3\" >unknown</th>\n",
              "      <td id=\"T_39045_row3_col0\" class=\"data row3 col0\" >12</td>\n",
              "      <td id=\"T_39045_row3_col1\" class=\"data row3 col1\" >68</td>\n",
              "      <td id=\"T_39045_row3_col2\" class=\"data row3 col2\" >15</td>\n",
              "    </tr>\n",
              "    <tr>\n",
              "      <th id=\"T_39045_level0_row4\" class=\"row_heading level0 row4\" >Total</th>\n",
              "      <td id=\"T_39045_row4_col0\" class=\"data row4 col0\" >4,640</td>\n",
              "      <td id=\"T_39045_row4_col1\" class=\"data row4 col1\" >36,548</td>\n",
              "      <td id=\"T_39045_row4_col2\" class=\"data row4 col2\" >11</td>\n",
              "    </tr>\n",
              "  </tbody>\n",
              "</table>\n"
            ]
          },
          "metadata": {},
          "execution_count": 93
        }
      ]
    },
    {
      "cell_type": "markdown",
      "source": [
        "### Take-away:<br>\n",
        "- we can see. divorced and married having rate deposit less than single.\n",
        "\n"
      ],
      "metadata": {
        "id": "wrrxhz88ebE3"
      }
    },
    {
      "cell_type": "code",
      "source": [
        "summary_stats = round(data.describe().T,2)\n",
        "summary_stats.drop(['count'], axis=1, inplace=True)\n",
        "summary_stats.rename (columns={'mean':'Mean', 'std': 'Standard Deviation', 'min': 'Minimum', \\\n",
        "                               '25%':'Q1', '50%': 'Median', '75%':'Q3', 'max':'Maximum'}, inplace=True)\n",
        "summary_stats"
      ],
      "metadata": {
        "colab": {
          "base_uri": "https://localhost:8080/",
          "height": 206
        },
        "id": "mB7xFQS6cJpb",
        "outputId": "6aca2c2d-9872-427f-c310-8e73ff46c06c"
      },
      "execution_count": null,
      "outputs": [
        {
          "output_type": "execute_result",
          "data": {
            "text/plain": [
              "                 Mean  Standard Deviation  Minimum     Q1  Median     Q3  \\\n",
              "age             40.02               10.42    17.00  32.00   38.00  47.00   \n",
              "cons.price.idx  93.58                0.58    92.20  93.08   93.75  93.99   \n",
              "euribor3m        3.62                1.73     0.63   1.34    4.86   4.96   \n",
              "campaign         2.57                2.77     1.00   1.00    2.00   3.00   \n",
              "deposit          0.11                0.32     0.00   0.00    0.00   0.00   \n",
              "\n",
              "                Maximum  \n",
              "age               98.00  \n",
              "cons.price.idx    94.77  \n",
              "euribor3m          5.04  \n",
              "campaign          56.00  \n",
              "deposit            1.00  "
            ],
            "text/html": [
              "\n",
              "  <div id=\"df-8f1e3164-ca14-4461-acfd-33e27a23c782\">\n",
              "    <div class=\"colab-df-container\">\n",
              "      <div>\n",
              "<style scoped>\n",
              "    .dataframe tbody tr th:only-of-type {\n",
              "        vertical-align: middle;\n",
              "    }\n",
              "\n",
              "    .dataframe tbody tr th {\n",
              "        vertical-align: top;\n",
              "    }\n",
              "\n",
              "    .dataframe thead th {\n",
              "        text-align: right;\n",
              "    }\n",
              "</style>\n",
              "<table border=\"1\" class=\"dataframe\">\n",
              "  <thead>\n",
              "    <tr style=\"text-align: right;\">\n",
              "      <th></th>\n",
              "      <th>Mean</th>\n",
              "      <th>Standard Deviation</th>\n",
              "      <th>Minimum</th>\n",
              "      <th>Q1</th>\n",
              "      <th>Median</th>\n",
              "      <th>Q3</th>\n",
              "      <th>Maximum</th>\n",
              "    </tr>\n",
              "  </thead>\n",
              "  <tbody>\n",
              "    <tr>\n",
              "      <th>age</th>\n",
              "      <td>40.02</td>\n",
              "      <td>10.42</td>\n",
              "      <td>17.00</td>\n",
              "      <td>32.00</td>\n",
              "      <td>38.00</td>\n",
              "      <td>47.00</td>\n",
              "      <td>98.00</td>\n",
              "    </tr>\n",
              "    <tr>\n",
              "      <th>cons.price.idx</th>\n",
              "      <td>93.58</td>\n",
              "      <td>0.58</td>\n",
              "      <td>92.20</td>\n",
              "      <td>93.08</td>\n",
              "      <td>93.75</td>\n",
              "      <td>93.99</td>\n",
              "      <td>94.77</td>\n",
              "    </tr>\n",
              "    <tr>\n",
              "      <th>euribor3m</th>\n",
              "      <td>3.62</td>\n",
              "      <td>1.73</td>\n",
              "      <td>0.63</td>\n",
              "      <td>1.34</td>\n",
              "      <td>4.86</td>\n",
              "      <td>4.96</td>\n",
              "      <td>5.04</td>\n",
              "    </tr>\n",
              "    <tr>\n",
              "      <th>campaign</th>\n",
              "      <td>2.57</td>\n",
              "      <td>2.77</td>\n",
              "      <td>1.00</td>\n",
              "      <td>1.00</td>\n",
              "      <td>2.00</td>\n",
              "      <td>3.00</td>\n",
              "      <td>56.00</td>\n",
              "    </tr>\n",
              "    <tr>\n",
              "      <th>deposit</th>\n",
              "      <td>0.11</td>\n",
              "      <td>0.32</td>\n",
              "      <td>0.00</td>\n",
              "      <td>0.00</td>\n",
              "      <td>0.00</td>\n",
              "      <td>0.00</td>\n",
              "      <td>1.00</td>\n",
              "    </tr>\n",
              "  </tbody>\n",
              "</table>\n",
              "</div>\n",
              "      <button class=\"colab-df-convert\" onclick=\"convertToInteractive('df-8f1e3164-ca14-4461-acfd-33e27a23c782')\"\n",
              "              title=\"Convert this dataframe to an interactive table.\"\n",
              "              style=\"display:none;\">\n",
              "        \n",
              "  <svg xmlns=\"http://www.w3.org/2000/svg\" height=\"24px\"viewBox=\"0 0 24 24\"\n",
              "       width=\"24px\">\n",
              "    <path d=\"M0 0h24v24H0V0z\" fill=\"none\"/>\n",
              "    <path d=\"M18.56 5.44l.94 2.06.94-2.06 2.06-.94-2.06-.94-.94-2.06-.94 2.06-2.06.94zm-11 1L8.5 8.5l.94-2.06 2.06-.94-2.06-.94L8.5 2.5l-.94 2.06-2.06.94zm10 10l.94 2.06.94-2.06 2.06-.94-2.06-.94-.94-2.06-.94 2.06-2.06.94z\"/><path d=\"M17.41 7.96l-1.37-1.37c-.4-.4-.92-.59-1.43-.59-.52 0-1.04.2-1.43.59L10.3 9.45l-7.72 7.72c-.78.78-.78 2.05 0 2.83L4 21.41c.39.39.9.59 1.41.59.51 0 1.02-.2 1.41-.59l7.78-7.78 2.81-2.81c.8-.78.8-2.07 0-2.86zM5.41 20L4 18.59l7.72-7.72 1.47 1.35L5.41 20z\"/>\n",
              "  </svg>\n",
              "      </button>\n",
              "      \n",
              "  <style>\n",
              "    .colab-df-container {\n",
              "      display:flex;\n",
              "      flex-wrap:wrap;\n",
              "      gap: 12px;\n",
              "    }\n",
              "\n",
              "    .colab-df-convert {\n",
              "      background-color: #E8F0FE;\n",
              "      border: none;\n",
              "      border-radius: 50%;\n",
              "      cursor: pointer;\n",
              "      display: none;\n",
              "      fill: #1967D2;\n",
              "      height: 32px;\n",
              "      padding: 0 0 0 0;\n",
              "      width: 32px;\n",
              "    }\n",
              "\n",
              "    .colab-df-convert:hover {\n",
              "      background-color: #E2EBFA;\n",
              "      box-shadow: 0px 1px 2px rgba(60, 64, 67, 0.3), 0px 1px 3px 1px rgba(60, 64, 67, 0.15);\n",
              "      fill: #174EA6;\n",
              "    }\n",
              "\n",
              "    [theme=dark] .colab-df-convert {\n",
              "      background-color: #3B4455;\n",
              "      fill: #D2E3FC;\n",
              "    }\n",
              "\n",
              "    [theme=dark] .colab-df-convert:hover {\n",
              "      background-color: #434B5C;\n",
              "      box-shadow: 0px 1px 3px 1px rgba(0, 0, 0, 0.15);\n",
              "      filter: drop-shadow(0px 1px 2px rgba(0, 0, 0, 0.3));\n",
              "      fill: #FFFFFF;\n",
              "    }\n",
              "  </style>\n",
              "\n",
              "      <script>\n",
              "        const buttonEl =\n",
              "          document.querySelector('#df-8f1e3164-ca14-4461-acfd-33e27a23c782 button.colab-df-convert');\n",
              "        buttonEl.style.display =\n",
              "          google.colab.kernel.accessAllowed ? 'block' : 'none';\n",
              "\n",
              "        async function convertToInteractive(key) {\n",
              "          const element = document.querySelector('#df-8f1e3164-ca14-4461-acfd-33e27a23c782');\n",
              "          const dataTable =\n",
              "            await google.colab.kernel.invokeFunction('convertToInteractive',\n",
              "                                                     [key], {});\n",
              "          if (!dataTable) return;\n",
              "\n",
              "          const docLinkHtml = 'Like what you see? Visit the ' +\n",
              "            '<a target=\"_blank\" href=https://colab.research.google.com/notebooks/data_table.ipynb>data table notebook</a>'\n",
              "            + ' to learn more about interactive tables.';\n",
              "          element.innerHTML = '';\n",
              "          dataTable['output_type'] = 'display_data';\n",
              "          await google.colab.output.renderOutput(dataTable, element);\n",
              "          const docLink = document.createElement('div');\n",
              "          docLink.innerHTML = docLinkHtml;\n",
              "          element.appendChild(docLink);\n",
              "        }\n",
              "      </script>\n",
              "    </div>\n",
              "  </div>\n",
              "  "
            ]
          },
          "metadata": {},
          "execution_count": 94
        }
      ]
    },
    {
      "cell_type": "code",
      "source": [
        "name = ['age', 'cons.price.idx', 'campaign']\n",
        "fig = plt.figure(figsize = (15,80))\n",
        "plotnumber =1\n",
        "for feature in name:\n",
        "    ax = plt.subplot(12,3,plotnumber)\n",
        "    plt.hist(data[feature], bins = 100)\n",
        "    plt.xlabel(feature)\n",
        "    plotnumber+=1\n",
        "plt.show()"
      ],
      "metadata": {
        "colab": {
          "base_uri": "https://localhost:8080/",
          "height": 374
        },
        "id": "8oGafbhKcORV",
        "outputId": "f4fa1f41-1b85-4ccf-cb86-a9831ed1f805"
      },
      "execution_count": null,
      "outputs": [
        {
          "output_type": "display_data",
          "data": {
            "text/plain": [
              "<Figure size 1080x5760 with 3 Axes>"
            ],
            "image/png": "[encoded data removed]"
          },
          "metadata": {
            "needs_background": "light"
          }
        }
      ]
    },
    {
      "cell_type": "markdown",
      "source": [
        "# VII. Standardized data"
      ],
      "metadata": {
        "id": "y4vgqjE6cV5k"
      }
    },
    {
      "cell_type": "code",
      "source": [
        "# Computing IQR\n",
        "Q1 = data['age'].quantile(0.25)\n",
        "Q3 = data['age'].quantile(0.75)\n",
        "IQR = Q3-Q1\n",
        "\n",
        "lower_bound = Q1-(1.5*IQR)\n",
        "upper_bound = Q3+(1.5*IQR)\n",
        "\n",
        "outliersData = data.loc[(data['age'] < lower_bound) | (data['age'] > upper_bound)]"
      ],
      "metadata": {
        "id": "EcMpUAGUcRas"
      },
      "execution_count": null,
      "outputs": []
    },
    {
      "cell_type": "code",
      "source": [
        "idxAge = outliersData.index"
      ],
      "metadata": {
        "id": "rL5PF_4tchIX"
      },
      "execution_count": null,
      "outputs": []
    },
    {
      "cell_type": "code",
      "source": [
        "data.drop(idxAge, axis = 0, inplace = True)"
      ],
      "metadata": {
        "colab": {
          "base_uri": "https://localhost:8080/"
        },
        "id": "RrcvmziFcjOe",
        "outputId": "00e108b0-62c7-4e08-f15a-7eb83ff95ff7"
      },
      "execution_count": null,
      "outputs": [
        {
          "output_type": "stream",
          "name": "stderr",
          "text": [
            "/usr/local/lib/python3.7/dist-packages/pandas/core/frame.py:4913: SettingWithCopyWarning: \n",
            "A value is trying to be set on a copy of a slice from a DataFrame\n",
            "\n",
            "See the caveats in the documentation: https://pandas.pydata.org/pandas-docs/stable/user_guide/indexing.html#returning-a-view-versus-a-copy\n",
            "  errors=errors,\n"
          ]
        }
      ]
    },
    {
      "cell_type": "code",
      "source": [
        "fig = plt.figure(figsize = (20,7))\n",
        "plt.subplot(1,2,1)\n",
        "plt.hist(data['age'])\n",
        "plt.subplot(1,2,2)\n",
        "sns.boxplot(data['age'])\n",
        "plt.show()"
      ],
      "metadata": {
        "colab": {
          "base_uri": "https://localhost:8080/",
          "height": 483
        },
        "id": "pVqYb9JBf_iS",
        "outputId": "b878c06f-e135-4f2a-cd36-fe430b8150d9"
      },
      "execution_count": null,
      "outputs": [
        {
          "output_type": "stream",
          "name": "stderr",
          "text": [
            "/usr/local/lib/python3.7/dist-packages/seaborn/_decorators.py:43: FutureWarning: Pass the following variable as a keyword arg: x. From version 0.12, the only valid positional argument will be `data`, and passing other arguments without an explicit keyword will result in an error or misinterpretation.\n",
            "  FutureWarning\n"
          ]
        },
        {
          "output_type": "display_data",
          "data": {
            "text/plain": [
              "<Figure size 1440x504 with 2 Axes>"
            ],
            "image/png": "[encoded data removed]"
          },
          "metadata": {
            "needs_background": "light"
          }
        }
      ]
    },
    {
      "cell_type": "code",
      "source": [
        "campaign_age = data.groupby('age', as_index=False)['campaign'].sum()\n",
        "fig = plt.figure(figsize = (15,8))\n",
        "plt.barh(campaign_age['age'], campaign_age['campaign'])\n",
        "plt.xlabel(\"Campaign\")\n",
        "plt.ylabel(\"Age\")\n",
        "plt.title(\"Marketing Campaigns by Age\")\n",
        "plt.show()"
      ],
      "metadata": {
        "colab": {
          "base_uri": "https://localhost:8080/",
          "height": 518
        },
        "id": "XS9IDTClclvJ",
        "outputId": "63ef1498-efc0-4b0c-b987-c08605788074"
      },
      "execution_count": null,
      "outputs": [
        {
          "output_type": "display_data",
          "data": {
            "text/plain": [
              "<Figure size 1080x576 with 1 Axes>"
            ],
            "image/png": "[encoded data removed]"
          },
          "metadata": {
            "needs_background": "light"
          }
        }
      ]
    },
    {
      "cell_type": "markdown",
      "source": [
        "### Correlation coefficient"
      ],
      "metadata": {
        "id": "DiD9ARBihr_y"
      }
    },
    {
      "cell_type": "code",
      "source": [
        "data.head()"
      ],
      "metadata": {
        "colab": {
          "base_uri": "https://localhost:8080/",
          "height": 206
        },
        "id": "Kplf2AFGiGRq",
        "outputId": "ef7fb002-0799-4562-813d-34fe6d59c878"
      },
      "execution_count": null,
      "outputs": [
        {
          "output_type": "execute_result",
          "data": {
            "text/plain": [
              "   age        job  marital    education  default month  cons.price.idx  \\\n",
              "0   56  housemaid  married     basic.4y       no   may          93.994   \n",
              "1   57   services  married  high.school  unknown   may          93.994   \n",
              "2   37   services  married  high.school       no   may          93.994   \n",
              "3   40     admin.  married     basic.6y       no   may          93.994   \n",
              "4   56   services  married  high.school       no   may          93.994   \n",
              "\n",
              "   euribor3m  campaign     poutcome  deposit group_age  \n",
              "0      4.857         1  nonexistent        0     55-60  \n",
              "1      4.857         1  nonexistent        0     55-60  \n",
              "2      4.857         1  nonexistent        0     35-40  \n",
              "3      4.857         1  nonexistent        0     40-45  \n",
              "4      4.857         1  nonexistent        0     55-60  "
            ],
            "text/html": [
              "\n",
              "  <div id=\"df-c20205f9-f6ac-4c36-9cdc-1f73c432158b\">\n",
              "    <div class=\"colab-df-container\">\n",
              "      <div>\n",
              "<style scoped>\n",
              "    .dataframe tbody tr th:only-of-type {\n",
              "        vertical-align: middle;\n",
              "    }\n",
              "\n",
              "    .dataframe tbody tr th {\n",
              "        vertical-align: top;\n",
              "    }\n",
              "\n",
              "    .dataframe thead th {\n",
              "        text-align: right;\n",
              "    }\n",
              "</style>\n",
              "<table border=\"1\" class=\"dataframe\">\n",
              "  <thead>\n",
              "    <tr style=\"text-align: right;\">\n",
              "      <th></th>\n",
              "      <th>age</th>\n",
              "      <th>job</th>\n",
              "      <th>marital</th>\n",
              "      <th>education</th>\n",
              "      <th>default</th>\n",
              "      <th>month</th>\n",
              "      <th>cons.price.idx</th>\n",
              "      <th>euribor3m</th>\n",
              "      <th>campaign</th>\n",
              "      <th>poutcome</th>\n",
              "      <th>deposit</th>\n",
              "      <th>group_age</th>\n",
              "    </tr>\n",
              "  </thead>\n",
              "  <tbody>\n",
              "    <tr>\n",
              "      <th>0</th>\n",
              "      <td>56</td>\n",
              "      <td>housemaid</td>\n",
              "      <td>married</td>\n",
              "      <td>basic.4y</td>\n",
              "      <td>no</td>\n",
              "      <td>may</td>\n",
              "      <td>93.994</td>\n",
              "      <td>4.857</td>\n",
              "      <td>1</td>\n",
              "      <td>nonexistent</td>\n",
              "      <td>0</td>\n",
              "      <td>55-60</td>\n",
              "    </tr>\n",
              "    <tr>\n",
              "      <th>1</th>\n",
              "      <td>57</td>\n",
              "      <td>services</td>\n",
              "      <td>married</td>\n",
              "      <td>high.school</td>\n",
              "      <td>unknown</td>\n",
              "      <td>may</td>\n",
              "      <td>93.994</td>\n",
              "      <td>4.857</td>\n",
              "      <td>1</td>\n",
              "      <td>nonexistent</td>\n",
              "      <td>0</td>\n",
              "      <td>55-60</td>\n",
              "    </tr>\n",
              "    <tr>\n",
              "      <th>2</th>\n",
              "      <td>37</td>\n",
              "      <td>services</td>\n",
              "      <td>married</td>\n",
              "      <td>high.school</td>\n",
              "      <td>no</td>\n",
              "      <td>may</td>\n",
              "      <td>93.994</td>\n",
              "      <td>4.857</td>\n",
              "      <td>1</td>\n",
              "      <td>nonexistent</td>\n",
              "      <td>0</td>\n",
              "      <td>35-40</td>\n",
              "    </tr>\n",
              "    <tr>\n",
              "      <th>3</th>\n",
              "      <td>40</td>\n",
              "      <td>admin.</td>\n",
              "      <td>married</td>\n",
              "      <td>basic.6y</td>\n",
              "      <td>no</td>\n",
              "      <td>may</td>\n",
              "      <td>93.994</td>\n",
              "      <td>4.857</td>\n",
              "      <td>1</td>\n",
              "      <td>nonexistent</td>\n",
              "      <td>0</td>\n",
              "      <td>40-45</td>\n",
              "    </tr>\n",
              "    <tr>\n",
              "      <th>4</th>\n",
              "      <td>56</td>\n",
              "      <td>services</td>\n",
              "      <td>married</td>\n",
              "      <td>high.school</td>\n",
              "      <td>no</td>\n",
              "      <td>may</td>\n",
              "      <td>93.994</td>\n",
              "      <td>4.857</td>\n",
              "      <td>1</td>\n",
              "      <td>nonexistent</td>\n",
              "      <td>0</td>\n",
              "      <td>55-60</td>\n",
              "    </tr>\n",
              "  </tbody>\n",
              "</table>\n",
              "</div>\n",
              "      <button class=\"colab-df-convert\" onclick=\"convertToInteractive('df-c20205f9-f6ac-4c36-9cdc-1f73c432158b')\"\n",
              "              title=\"Convert this dataframe to an interactive table.\"\n",
              "              style=\"display:none;\">\n",
              "        \n",
              "  <svg xmlns=\"http://www.w3.org/2000/svg\" height=\"24px\"viewBox=\"0 0 24 24\"\n",
              "       width=\"24px\">\n",
              "    <path d=\"M0 0h24v24H0V0z\" fill=\"none\"/>\n",
              "    <path d=\"M18.56 5.44l.94 2.06.94-2.06 2.06-.94-2.06-.94-.94-2.06-.94 2.06-2.06.94zm-11 1L8.5 8.5l.94-2.06 2.06-.94-2.06-.94L8.5 2.5l-.94 2.06-2.06.94zm10 10l.94 2.06.94-2.06 2.06-.94-2.06-.94-.94-2.06-.94 2.06-2.06.94z\"/><path d=\"M17.41 7.96l-1.37-1.37c-.4-.4-.92-.59-1.43-.59-.52 0-1.04.2-1.43.59L10.3 9.45l-7.72 7.72c-.78.78-.78 2.05 0 2.83L4 21.41c.39.39.9.59 1.41.59.51 0 1.02-.2 1.41-.59l7.78-7.78 2.81-2.81c.8-.78.8-2.07 0-2.86zM5.41 20L4 18.59l7.72-7.72 1.47 1.35L5.41 20z\"/>\n",
              "  </svg>\n",
              "      </button>\n",
              "      \n",
              "  <style>\n",
              "    .colab-df-container {\n",
              "      display:flex;\n",
              "      flex-wrap:wrap;\n",
              "      gap: 12px;\n",
              "    }\n",
              "\n",
              "    .colab-df-convert {\n",
              "      background-color: #E8F0FE;\n",
              "      border: none;\n",
              "      border-radius: 50%;\n",
              "      cursor: pointer;\n",
              "      display: none;\n",
              "      fill: #1967D2;\n",
              "      height: 32px;\n",
              "      padding: 0 0 0 0;\n",
              "      width: 32px;\n",
              "    }\n",
              "\n",
              "    .colab-df-convert:hover {\n",
              "      background-color: #E2EBFA;\n",
              "      box-shadow: 0px 1px 2px rgba(60, 64, 67, 0.3), 0px 1px 3px 1px rgba(60, 64, 67, 0.15);\n",
              "      fill: #174EA6;\n",
              "    }\n",
              "\n",
              "    [theme=dark] .colab-df-convert {\n",
              "      background-color: #3B4455;\n",
              "      fill: #D2E3FC;\n",
              "    }\n",
              "\n",
              "    [theme=dark] .colab-df-convert:hover {\n",
              "      background-color: #434B5C;\n",
              "      box-shadow: 0px 1px 3px 1px rgba(0, 0, 0, 0.15);\n",
              "      filter: drop-shadow(0px 1px 2px rgba(0, 0, 0, 0.3));\n",
              "      fill: #FFFFFF;\n",
              "    }\n",
              "  </style>\n",
              "\n",
              "      <script>\n",
              "        const buttonEl =\n",
              "          document.querySelector('#df-c20205f9-f6ac-4c36-9cdc-1f73c432158b button.colab-df-convert');\n",
              "        buttonEl.style.display =\n",
              "          google.colab.kernel.accessAllowed ? 'block' : 'none';\n",
              "\n",
              "        async function convertToInteractive(key) {\n",
              "          const element = document.querySelector('#df-c20205f9-f6ac-4c36-9cdc-1f73c432158b');\n",
              "          const dataTable =\n",
              "            await google.colab.kernel.invokeFunction('convertToInteractive',\n",
              "                                                     [key], {});\n",
              "          if (!dataTable) return;\n",
              "\n",
              "          const docLinkHtml = 'Like what you see? Visit the ' +\n",
              "            '<a target=\"_blank\" href=https://colab.research.google.com/notebooks/data_table.ipynb>data table notebook</a>'\n",
              "            + ' to learn more about interactive tables.';\n",
              "          element.innerHTML = '';\n",
              "          dataTable['output_type'] = 'display_data';\n",
              "          await google.colab.output.renderOutput(dataTable, element);\n",
              "          const docLink = document.createElement('div');\n",
              "          docLink.innerHTML = docLinkHtml;\n",
              "          element.appendChild(docLink);\n",
              "        }\n",
              "      </script>\n",
              "    </div>\n",
              "  </div>\n",
              "  "
            ]
          },
          "metadata": {},
          "execution_count": 101
        }
      ]
    },
    {
      "cell_type": "code",
      "source": [
        "# plotting correlation heatmap\n",
        "dataplot = sns.heatmap(data[['age', 'cons.price.idx', 'euribor3m', 'campaign', 'deposit']].corr(), cmap=\"YlGnBu\", annot=True)\n",
        "  \n",
        "# displaying heatmap\n",
        "plt.show()"
      ],
      "metadata": {
        "colab": {
          "base_uri": "https://localhost:8080/",
          "height": 339
        },
        "id": "GMSpLw3whQAc",
        "outputId": "1be0502a-a920-4ae9-b98d-0a6dddbabb68"
      },
      "execution_count": null,
      "outputs": [
        {
          "output_type": "display_data",
          "data": {
            "text/plain": [
              "<Figure size 432x288 with 2 Axes>"
            ],
            "image/png": "[encoded data removed]"
          },
          "metadata": {
            "needs_background": "light"
          }
        }
      ]
    },
    {
      "cell_type": "markdown",
      "source": [
        "# VIII. Building model predict"
      ],
      "metadata": {
        "id": "awxGpjMjifyG"
      }
    },
    {
      "cell_type": "code",
      "source": [
        "missing_value(data)"
      ],
      "metadata": {
        "colab": {
          "base_uri": "https://localhost:8080/",
          "height": 426
        },
        "id": "ddPEYncZiVOo",
        "outputId": "e747784e-9c64-443a-81d3-40c25e18d119"
      },
      "execution_count": null,
      "outputs": [
        {
          "output_type": "execute_result",
          "data": {
            "text/plain": [
              "      Name Columns  Total row type col  Total unique  Total miss val  \\\n",
              "0              age      40719    int64            53               0   \n",
              "1              job      40719   object            12               0   \n",
              "2          marital      40719   object             4               0   \n",
              "3        education      40719   object             8               0   \n",
              "4          default      40719   object             3               0   \n",
              "5            month      40719   object            10               0   \n",
              "6   cons.price.idx      40719  float64            26               0   \n",
              "7        euribor3m      40719  float64           316               0   \n",
              "8         campaign      40719    int64            42               0   \n",
              "9         poutcome      40719   object             3               0   \n",
              "10         deposit      40719    int64             2               0   \n",
              "11       group_age      40719   object            12               0   \n",
              "\n",
              "    percentage missing value  \n",
              "0                        0.0  \n",
              "1                        0.0  \n",
              "2                        0.0  \n",
              "3                        0.0  \n",
              "4                        0.0  \n",
              "5                        0.0  \n",
              "6                        0.0  \n",
              "7                        0.0  \n",
              "8                        0.0  \n",
              "9                        0.0  \n",
              "10                       0.0  \n",
              "11                       0.0  "
            ],
            "text/html": [
              "\n",
              "  <div id=\"df-aea2d9a2-5cd5-4898-a98b-255d084017ea\">\n",
              "    <div class=\"colab-df-container\">\n",
              "      <div>\n",
              "<style scoped>\n",
              "    .dataframe tbody tr th:only-of-type {\n",
              "        vertical-align: middle;\n",
              "    }\n",
              "\n",
              "    .dataframe tbody tr th {\n",
              "        vertical-align: top;\n",
              "    }\n",
              "\n",
              "    .dataframe thead th {\n",
              "        text-align: right;\n",
              "    }\n",
              "</style>\n",
              "<table border=\"1\" class=\"dataframe\">\n",
              "  <thead>\n",
              "    <tr style=\"text-align: right;\">\n",
              "      <th></th>\n",
              "      <th>Name Columns</th>\n",
              "      <th>Total row</th>\n",
              "      <th>type col</th>\n",
              "      <th>Total unique</th>\n",
              "      <th>Total miss val</th>\n",
              "      <th>percentage missing value</th>\n",
              "    </tr>\n",
              "  </thead>\n",
              "  <tbody>\n",
              "    <tr>\n",
              "      <th>0</th>\n",
              "      <td>age</td>\n",
              "      <td>40719</td>\n",
              "      <td>int64</td>\n",
              "      <td>53</td>\n",
              "      <td>0</td>\n",
              "      <td>0.0</td>\n",
              "    </tr>\n",
              "    <tr>\n",
              "      <th>1</th>\n",
              "      <td>job</td>\n",
              "      <td>40719</td>\n",
              "      <td>object</td>\n",
              "      <td>12</td>\n",
              "      <td>0</td>\n",
              "      <td>0.0</td>\n",
              "    </tr>\n",
              "    <tr>\n",
              "      <th>2</th>\n",
              "      <td>marital</td>\n",
              "      <td>40719</td>\n",
              "      <td>object</td>\n",
              "      <td>4</td>\n",
              "      <td>0</td>\n",
              "      <td>0.0</td>\n",
              "    </tr>\n",
              "    <tr>\n",
              "      <th>3</th>\n",
              "      <td>education</td>\n",
              "      <td>40719</td>\n",
              "      <td>object</td>\n",
              "      <td>8</td>\n",
              "      <td>0</td>\n",
              "      <td>0.0</td>\n",
              "    </tr>\n",
              "    <tr>\n",
              "      <th>4</th>\n",
              "      <td>default</td>\n",
              "      <td>40719</td>\n",
              "      <td>object</td>\n",
              "      <td>3</td>\n",
              "      <td>0</td>\n",
              "      <td>0.0</td>\n",
              "    </tr>\n",
              "    <tr>\n",
              "      <th>5</th>\n",
              "      <td>month</td>\n",
              "      <td>40719</td>\n",
              "      <td>object</td>\n",
              "      <td>10</td>\n",
              "      <td>0</td>\n",
              "      <td>0.0</td>\n",
              "    </tr>\n",
              "    <tr>\n",
              "      <th>6</th>\n",
              "      <td>cons.price.idx</td>\n",
              "      <td>40719</td>\n",
              "      <td>float64</td>\n",
              "      <td>26</td>\n",
              "      <td>0</td>\n",
              "      <td>0.0</td>\n",
              "    </tr>\n",
              "    <tr>\n",
              "      <th>7</th>\n",
              "      <td>euribor3m</td>\n",
              "      <td>40719</td>\n",
              "      <td>float64</td>\n",
              "      <td>316</td>\n",
              "      <td>0</td>\n",
              "      <td>0.0</td>\n",
              "    </tr>\n",
              "    <tr>\n",
              "      <th>8</th>\n",
              "      <td>campaign</td>\n",
              "      <td>40719</td>\n",
              "      <td>int64</td>\n",
              "      <td>42</td>\n",
              "      <td>0</td>\n",
              "      <td>0.0</td>\n",
              "    </tr>\n",
              "    <tr>\n",
              "      <th>9</th>\n",
              "      <td>poutcome</td>\n",
              "      <td>40719</td>\n",
              "      <td>object</td>\n",
              "      <td>3</td>\n",
              "      <td>0</td>\n",
              "      <td>0.0</td>\n",
              "    </tr>\n",
              "    <tr>\n",
              "      <th>10</th>\n",
              "      <td>deposit</td>\n",
              "      <td>40719</td>\n",
              "      <td>int64</td>\n",
              "      <td>2</td>\n",
              "      <td>0</td>\n",
              "      <td>0.0</td>\n",
              "    </tr>\n",
              "    <tr>\n",
              "      <th>11</th>\n",
              "      <td>group_age</td>\n",
              "      <td>40719</td>\n",
              "      <td>object</td>\n",
              "      <td>12</td>\n",
              "      <td>0</td>\n",
              "      <td>0.0</td>\n",
              "    </tr>\n",
              "  </tbody>\n",
              "</table>\n",
              "</div>\n",
              "      <button class=\"colab-df-convert\" onclick=\"convertToInteractive('df-aea2d9a2-5cd5-4898-a98b-255d084017ea')\"\n",
              "              title=\"Convert this dataframe to an interactive table.\"\n",
              "              style=\"display:none;\">\n",
              "        \n",
              "  <svg xmlns=\"http://www.w3.org/2000/svg\" height=\"24px\"viewBox=\"0 0 24 24\"\n",
              "       width=\"24px\">\n",
              "    <path d=\"M0 0h24v24H0V0z\" fill=\"none\"/>\n",
              "    <path d=\"M18.56 5.44l.94 2.06.94-2.06 2.06-.94-2.06-.94-.94-2.06-.94 2.06-2.06.94zm-11 1L8.5 8.5l.94-2.06 2.06-.94-2.06-.94L8.5 2.5l-.94 2.06-2.06.94zm10 10l.94 2.06.94-2.06 2.06-.94-2.06-.94-.94-2.06-.94 2.06-2.06.94z\"/><path d=\"M17.41 7.96l-1.37-1.37c-.4-.4-.92-.59-1.43-.59-.52 0-1.04.2-1.43.59L10.3 9.45l-7.72 7.72c-.78.78-.78 2.05 0 2.83L4 21.41c.39.39.9.59 1.41.59.51 0 1.02-.2 1.41-.59l7.78-7.78 2.81-2.81c.8-.78.8-2.07 0-2.86zM5.41 20L4 18.59l7.72-7.72 1.47 1.35L5.41 20z\"/>\n",
              "  </svg>\n",
              "      </button>\n",
              "      \n",
              "  <style>\n",
              "    .colab-df-container {\n",
              "      display:flex;\n",
              "      flex-wrap:wrap;\n",
              "      gap: 12px;\n",
              "    }\n",
              "\n",
              "    .colab-df-convert {\n",
              "      background-color: #E8F0FE;\n",
              "      border: none;\n",
              "      border-radius: 50%;\n",
              "      cursor: pointer;\n",
              "      display: none;\n",
              "      fill: #1967D2;\n",
              "      height: 32px;\n",
              "      padding: 0 0 0 0;\n",
              "      width: 32px;\n",
              "    }\n",
              "\n",
              "    .colab-df-convert:hover {\n",
              "      background-color: #E2EBFA;\n",
              "      box-shadow: 0px 1px 2px rgba(60, 64, 67, 0.3), 0px 1px 3px 1px rgba(60, 64, 67, 0.15);\n",
              "      fill: #174EA6;\n",
              "    }\n",
              "\n",
              "    [theme=dark] .colab-df-convert {\n",
              "      background-color: #3B4455;\n",
              "      fill: #D2E3FC;\n",
              "    }\n",
              "\n",
              "    [theme=dark] .colab-df-convert:hover {\n",
              "      background-color: #434B5C;\n",
              "      box-shadow: 0px 1px 3px 1px rgba(0, 0, 0, 0.15);\n",
              "      filter: drop-shadow(0px 1px 2px rgba(0, 0, 0, 0.3));\n",
              "      fill: #FFFFFF;\n",
              "    }\n",
              "  </style>\n",
              "\n",
              "      <script>\n",
              "        const buttonEl =\n",
              "          document.querySelector('#df-aea2d9a2-5cd5-4898-a98b-255d084017ea button.colab-df-convert');\n",
              "        buttonEl.style.display =\n",
              "          google.colab.kernel.accessAllowed ? 'block' : 'none';\n",
              "\n",
              "        async function convertToInteractive(key) {\n",
              "          const element = document.querySelector('#df-aea2d9a2-5cd5-4898-a98b-255d084017ea');\n",
              "          const dataTable =\n",
              "            await google.colab.kernel.invokeFunction('convertToInteractive',\n",
              "                                                     [key], {});\n",
              "          if (!dataTable) return;\n",
              "\n",
              "          const docLinkHtml = 'Like what you see? Visit the ' +\n",
              "            '<a target=\"_blank\" href=https://colab.research.google.com/notebooks/data_table.ipynb>data table notebook</a>'\n",
              "            + ' to learn more about interactive tables.';\n",
              "          element.innerHTML = '';\n",
              "          dataTable['output_type'] = 'display_data';\n",
              "          await google.colab.output.renderOutput(dataTable, element);\n",
              "          const docLink = document.createElement('div');\n",
              "          docLink.innerHTML = docLinkHtml;\n",
              "          element.appendChild(docLink);\n",
              "        }\n",
              "      </script>\n",
              "    </div>\n",
              "  </div>\n",
              "  "
            ]
          },
          "metadata": {},
          "execution_count": 103
        }
      ]
    },
    {
      "cell_type": "code",
      "source": [
        "def convertStringToNumber(name, df):\n",
        "    for n in name:\n",
        "        x = df[n].unique()\n",
        "        for i in range(len(x)):\n",
        "            df[n] = df[n].replace(to_replace=x[i], value=i)"
      ],
      "metadata": {
        "id": "Zn98PJEfilfv"
      },
      "execution_count": null,
      "outputs": []
    },
    {
      "cell_type": "code",
      "source": [
        "obj = ['job', 'marital', 'education', 'default', 'poutcome']\n",
        "convertStringToNumber(obj, data)"
      ],
      "metadata": {
        "colab": {
          "base_uri": "https://localhost:8080/"
        },
        "id": "cO934dwrit1T",
        "outputId": "eb926562-66be-42bf-ecdd-b53e27c33e71"
      },
      "execution_count": null,
      "outputs": [
        {
          "output_type": "stream",
          "name": "stderr",
          "text": [
            "/usr/local/lib/python3.7/dist-packages/ipykernel_launcher.py:5: SettingWithCopyWarning: \n",
            "A value is trying to be set on a copy of a slice from a DataFrame.\n",
            "Try using .loc[row_indexer,col_indexer] = value instead\n",
            "\n",
            "See the caveats in the documentation: https://pandas.pydata.org/pandas-docs/stable/user_guide/indexing.html#returning-a-view-versus-a-copy\n",
            "  \"\"\"\n"
          ]
        }
      ]
    },
    {
      "cell_type": "code",
      "source": [
        "dict_month = {'may': 5,\n",
        "              'jun': 6,\n",
        "              'jul': 7,\n",
        "               'aug': 8,\n",
        "              'oct': 10, 'nov': 11, 'dec': 12, 'mar': 3, 'apr': 4, 'sep': 9 }\n",
        "data['month'] = data.month.map(dict(dict_month))"
      ],
      "metadata": {
        "colab": {
          "base_uri": "https://localhost:8080/"
        },
        "id": "41VXaVEciwwj",
        "outputId": "dfb4a29c-9301-481d-c992-be6ecc036762"
      },
      "execution_count": null,
      "outputs": [
        {
          "output_type": "stream",
          "name": "stderr",
          "text": [
            "/usr/local/lib/python3.7/dist-packages/ipykernel_launcher.py:6: SettingWithCopyWarning: \n",
            "A value is trying to be set on a copy of a slice from a DataFrame.\n",
            "Try using .loc[row_indexer,col_indexer] = value instead\n",
            "\n",
            "See the caveats in the documentation: https://pandas.pydata.org/pandas-docs/stable/user_guide/indexing.html#returning-a-view-versus-a-copy\n",
            "  \n"
          ]
        }
      ]
    },
    {
      "cell_type": "code",
      "source": [
        "data.drop(['group_age'], axis = 1, inplace = True)"
      ],
      "metadata": {
        "colab": {
          "base_uri": "https://localhost:8080/"
        },
        "id": "wnQux8hTjvxh",
        "outputId": "65da13ee-dcb4-4e38-8bff-a0344e415cc5"
      },
      "execution_count": null,
      "outputs": [
        {
          "output_type": "stream",
          "name": "stderr",
          "text": [
            "/usr/local/lib/python3.7/dist-packages/pandas/core/frame.py:4913: SettingWithCopyWarning: \n",
            "A value is trying to be set on a copy of a slice from a DataFrame\n",
            "\n",
            "See the caveats in the documentation: https://pandas.pydata.org/pandas-docs/stable/user_guide/indexing.html#returning-a-view-versus-a-copy\n",
            "  errors=errors,\n"
          ]
        }
      ]
    },
    {
      "cell_type": "code",
      "source": [
        "data.head()"
      ],
      "metadata": {
        "colab": {
          "base_uri": "https://localhost:8080/",
          "height": 206
        },
        "id": "-QhiSQI1jF_W",
        "outputId": "ee9a204b-27c1-410a-885b-9a7a1e334c4c"
      },
      "execution_count": null,
      "outputs": [
        {
          "output_type": "execute_result",
          "data": {
            "text/plain": [
              "   age  job  marital  education  default  month  cons.price.idx  euribor3m  \\\n",
              "0   56    0        0          0        0      5          93.994      4.857   \n",
              "1   57    1        0          1        1      5          93.994      4.857   \n",
              "2   37    1        0          1        0      5          93.994      4.857   \n",
              "3   40    2        0          2        0      5          93.994      4.857   \n",
              "4   56    1        0          1        0      5          93.994      4.857   \n",
              "\n",
              "   campaign  poutcome  deposit  \n",
              "0         1         0        0  \n",
              "1         1         0        0  \n",
              "2         1         0        0  \n",
              "3         1         0        0  \n",
              "4         1         0        0  "
            ],
            "text/html": [
              "\n",
              "  <div id=\"df-67111022-3458-4baa-88cf-9c3ee451be55\">\n",
              "    <div class=\"colab-df-container\">\n",
              "      <div>\n",
              "<style scoped>\n",
              "    .dataframe tbody tr th:only-of-type {\n",
              "        vertical-align: middle;\n",
              "    }\n",
              "\n",
              "    .dataframe tbody tr th {\n",
              "        vertical-align: top;\n",
              "    }\n",
              "\n",
              "    .dataframe thead th {\n",
              "        text-align: right;\n",
              "    }\n",
              "</style>\n",
              "<table border=\"1\" class=\"dataframe\">\n",
              "  <thead>\n",
              "    <tr style=\"text-align: right;\">\n",
              "      <th></th>\n",
              "      <th>age</th>\n",
              "      <th>job</th>\n",
              "      <th>marital</th>\n",
              "      <th>education</th>\n",
              "      <th>default</th>\n",
              "      <th>month</th>\n",
              "      <th>cons.price.idx</th>\n",
              "      <th>euribor3m</th>\n",
              "      <th>campaign</th>\n",
              "      <th>poutcome</th>\n",
              "      <th>deposit</th>\n",
              "    </tr>\n",
              "  </thead>\n",
              "  <tbody>\n",
              "    <tr>\n",
              "      <th>0</th>\n",
              "      <td>56</td>\n",
              "      <td>0</td>\n",
              "      <td>0</td>\n",
              "      <td>0</td>\n",
              "      <td>0</td>\n",
              "      <td>5</td>\n",
              "      <td>93.994</td>\n",
              "      <td>4.857</td>\n",
              "      <td>1</td>\n",
              "      <td>0</td>\n",
              "      <td>0</td>\n",
              "    </tr>\n",
              "    <tr>\n",
              "      <th>1</th>\n",
              "      <td>57</td>\n",
              "      <td>1</td>\n",
              "      <td>0</td>\n",
              "      <td>1</td>\n",
              "      <td>1</td>\n",
              "      <td>5</td>\n",
              "      <td>93.994</td>\n",
              "      <td>4.857</td>\n",
              "      <td>1</td>\n",
              "      <td>0</td>\n",
              "      <td>0</td>\n",
              "    </tr>\n",
              "    <tr>\n",
              "      <th>2</th>\n",
              "      <td>37</td>\n",
              "      <td>1</td>\n",
              "      <td>0</td>\n",
              "      <td>1</td>\n",
              "      <td>0</td>\n",
              "      <td>5</td>\n",
              "      <td>93.994</td>\n",
              "      <td>4.857</td>\n",
              "      <td>1</td>\n",
              "      <td>0</td>\n",
              "      <td>0</td>\n",
              "    </tr>\n",
              "    <tr>\n",
              "      <th>3</th>\n",
              "      <td>40</td>\n",
              "      <td>2</td>\n",
              "      <td>0</td>\n",
              "      <td>2</td>\n",
              "      <td>0</td>\n",
              "      <td>5</td>\n",
              "      <td>93.994</td>\n",
              "      <td>4.857</td>\n",
              "      <td>1</td>\n",
              "      <td>0</td>\n",
              "      <td>0</td>\n",
              "    </tr>\n",
              "    <tr>\n",
              "      <th>4</th>\n",
              "      <td>56</td>\n",
              "      <td>1</td>\n",
              "      <td>0</td>\n",
              "      <td>1</td>\n",
              "      <td>0</td>\n",
              "      <td>5</td>\n",
              "      <td>93.994</td>\n",
              "      <td>4.857</td>\n",
              "      <td>1</td>\n",
              "      <td>0</td>\n",
              "      <td>0</td>\n",
              "    </tr>\n",
              "  </tbody>\n",
              "</table>\n",
              "</div>\n",
              "      <button class=\"colab-df-convert\" onclick=\"convertToInteractive('df-67111022-3458-4baa-88cf-9c3ee451be55')\"\n",
              "              title=\"Convert this dataframe to an interactive table.\"\n",
              "              style=\"display:none;\">\n",
              "        \n",
              "  <svg xmlns=\"http://www.w3.org/2000/svg\" height=\"24px\"viewBox=\"0 0 24 24\"\n",
              "       width=\"24px\">\n",
              "    <path d=\"M0 0h24v24H0V0z\" fill=\"none\"/>\n",
              "    <path d=\"M18.56 5.44l.94 2.06.94-2.06 2.06-.94-2.06-.94-.94-2.06-.94 2.06-2.06.94zm-11 1L8.5 8.5l.94-2.06 2.06-.94-2.06-.94L8.5 2.5l-.94 2.06-2.06.94zm10 10l.94 2.06.94-2.06 2.06-.94-2.06-.94-.94-2.06-.94 2.06-2.06.94z\"/><path d=\"M17.41 7.96l-1.37-1.37c-.4-.4-.92-.59-1.43-.59-.52 0-1.04.2-1.43.59L10.3 9.45l-7.72 7.72c-.78.78-.78 2.05 0 2.83L4 21.41c.39.39.9.59 1.41.59.51 0 1.02-.2 1.41-.59l7.78-7.78 2.81-2.81c.8-.78.8-2.07 0-2.86zM5.41 20L4 18.59l7.72-7.72 1.47 1.35L5.41 20z\"/>\n",
              "  </svg>\n",
              "      </button>\n",
              "      \n",
              "  <style>\n",
              "    .colab-df-container {\n",
              "      display:flex;\n",
              "      flex-wrap:wrap;\n",
              "      gap: 12px;\n",
              "    }\n",
              "\n",
              "    .colab-df-convert {\n",
              "      background-color: #E8F0FE;\n",
              "      border: none;\n",
              "      border-radius: 50%;\n",
              "      cursor: pointer;\n",
              "      display: none;\n",
              "      fill: #1967D2;\n",
              "      height: 32px;\n",
              "      padding: 0 0 0 0;\n",
              "      width: 32px;\n",
              "    }\n",
              "\n",
              "    .colab-df-convert:hover {\n",
              "      background-color: #E2EBFA;\n",
              "      box-shadow: 0px 1px 2px rgba(60, 64, 67, 0.3), 0px 1px 3px 1px rgba(60, 64, 67, 0.15);\n",
              "      fill: #174EA6;\n",
              "    }\n",
              "\n",
              "    [theme=dark] .colab-df-convert {\n",
              "      background-color: #3B4455;\n",
              "      fill: #D2E3FC;\n",
              "    }\n",
              "\n",
              "    [theme=dark] .colab-df-convert:hover {\n",
              "      background-color: #434B5C;\n",
              "      box-shadow: 0px 1px 3px 1px rgba(0, 0, 0, 0.15);\n",
              "      filter: drop-shadow(0px 1px 2px rgba(0, 0, 0, 0.3));\n",
              "      fill: #FFFFFF;\n",
              "    }\n",
              "  </style>\n",
              "\n",
              "      <script>\n",
              "        const buttonEl =\n",
              "          document.querySelector('#df-67111022-3458-4baa-88cf-9c3ee451be55 button.colab-df-convert');\n",
              "        buttonEl.style.display =\n",
              "          google.colab.kernel.accessAllowed ? 'block' : 'none';\n",
              "\n",
              "        async function convertToInteractive(key) {\n",
              "          const element = document.querySelector('#df-67111022-3458-4baa-88cf-9c3ee451be55');\n",
              "          const dataTable =\n",
              "            await google.colab.kernel.invokeFunction('convertToInteractive',\n",
              "                                                     [key], {});\n",
              "          if (!dataTable) return;\n",
              "\n",
              "          const docLinkHtml = 'Like what you see? Visit the ' +\n",
              "            '<a target=\"_blank\" href=https://colab.research.google.com/notebooks/data_table.ipynb>data table notebook</a>'\n",
              "            + ' to learn more about interactive tables.';\n",
              "          element.innerHTML = '';\n",
              "          dataTable['output_type'] = 'display_data';\n",
              "          await google.colab.output.renderOutput(dataTable, element);\n",
              "          const docLink = document.createElement('div');\n",
              "          docLink.innerHTML = docLinkHtml;\n",
              "          element.appendChild(docLink);\n",
              "        }\n",
              "      </script>\n",
              "    </div>\n",
              "  </div>\n",
              "  "
            ]
          },
          "metadata": {},
          "execution_count": 108
        }
      ]
    },
    {
      "cell_type": "code",
      "source": [
        "missing_value(data)"
      ],
      "metadata": {
        "colab": {
          "base_uri": "https://localhost:8080/",
          "height": 394
        },
        "id": "PvuMOtD9FsAT",
        "outputId": "5b84e331-c802-44f6-b1bb-b388814803e1"
      },
      "execution_count": null,
      "outputs": [
        {
          "output_type": "execute_result",
          "data": {
            "text/plain": [
              "      Name Columns  Total row type col  Total unique  Total miss val  \\\n",
              "0              age      40719    int64            53               0   \n",
              "1              job      40719    int64            12               0   \n",
              "2          marital      40719    int64             4               0   \n",
              "3        education      40719    int64             8               0   \n",
              "4          default      40719    int64             3               0   \n",
              "5            month      40719    int64            10               0   \n",
              "6   cons.price.idx      40719  float64            26               0   \n",
              "7        euribor3m      40719  float64           316               0   \n",
              "8         campaign      40719    int64            42               0   \n",
              "9         poutcome      40719    int64             3               0   \n",
              "10         deposit      40719    int64             2               0   \n",
              "\n",
              "    percentage missing value  \n",
              "0                        0.0  \n",
              "1                        0.0  \n",
              "2                        0.0  \n",
              "3                        0.0  \n",
              "4                        0.0  \n",
              "5                        0.0  \n",
              "6                        0.0  \n",
              "7                        0.0  \n",
              "8                        0.0  \n",
              "9                        0.0  \n",
              "10                       0.0  "
            ],
            "text/html": [
              "\n",
              "  <div id=\"df-e0d91cab-531d-4d9e-86c7-fa437057fbe2\">\n",
              "    <div class=\"colab-df-container\">\n",
              "      <div>\n",
              "<style scoped>\n",
              "    .dataframe tbody tr th:only-of-type {\n",
              "        vertical-align: middle;\n",
              "    }\n",
              "\n",
              "    .dataframe tbody tr th {\n",
              "        vertical-align: top;\n",
              "    }\n",
              "\n",
              "    .dataframe thead th {\n",
              "        text-align: right;\n",
              "    }\n",
              "</style>\n",
              "<table border=\"1\" class=\"dataframe\">\n",
              "  <thead>\n",
              "    <tr style=\"text-align: right;\">\n",
              "      <th></th>\n",
              "      <th>Name Columns</th>\n",
              "      <th>Total row</th>\n",
              "      <th>type col</th>\n",
              "      <th>Total unique</th>\n",
              "      <th>Total miss val</th>\n",
              "      <th>percentage missing value</th>\n",
              "    </tr>\n",
              "  </thead>\n",
              "  <tbody>\n",
              "    <tr>\n",
              "      <th>0</th>\n",
              "      <td>age</td>\n",
              "      <td>40719</td>\n",
              "      <td>int64</td>\n",
              "      <td>53</td>\n",
              "      <td>0</td>\n",
              "      <td>0.0</td>\n",
              "    </tr>\n",
              "    <tr>\n",
              "      <th>1</th>\n",
              "      <td>job</td>\n",
              "      <td>40719</td>\n",
              "      <td>int64</td>\n",
              "      <td>12</td>\n",
              "      <td>0</td>\n",
              "      <td>0.0</td>\n",
              "    </tr>\n",
              "    <tr>\n",
              "      <th>2</th>\n",
              "      <td>marital</td>\n",
              "      <td>40719</td>\n",
              "      <td>int64</td>\n",
              "      <td>4</td>\n",
              "      <td>0</td>\n",
              "      <td>0.0</td>\n",
              "    </tr>\n",
              "    <tr>\n",
              "      <th>3</th>\n",
              "      <td>education</td>\n",
              "      <td>40719</td>\n",
              "      <td>int64</td>\n",
              "      <td>8</td>\n",
              "      <td>0</td>\n",
              "      <td>0.0</td>\n",
              "    </tr>\n",
              "    <tr>\n",
              "      <th>4</th>\n",
              "      <td>default</td>\n",
              "      <td>40719</td>\n",
              "      <td>int64</td>\n",
              "      <td>3</td>\n",
              "      <td>0</td>\n",
              "      <td>0.0</td>\n",
              "    </tr>\n",
              "    <tr>\n",
              "      <th>5</th>\n",
              "      <td>month</td>\n",
              "      <td>40719</td>\n",
              "      <td>int64</td>\n",
              "      <td>10</td>\n",
              "      <td>0</td>\n",
              "      <td>0.0</td>\n",
              "    </tr>\n",
              "    <tr>\n",
              "      <th>6</th>\n",
              "      <td>cons.price.idx</td>\n",
              "      <td>40719</td>\n",
              "      <td>float64</td>\n",
              "      <td>26</td>\n",
              "      <td>0</td>\n",
              "      <td>0.0</td>\n",
              "    </tr>\n",
              "    <tr>\n",
              "      <th>7</th>\n",
              "      <td>euribor3m</td>\n",
              "      <td>40719</td>\n",
              "      <td>float64</td>\n",
              "      <td>316</td>\n",
              "      <td>0</td>\n",
              "      <td>0.0</td>\n",
              "    </tr>\n",
              "    <tr>\n",
              "      <th>8</th>\n",
              "      <td>campaign</td>\n",
              "      <td>40719</td>\n",
              "      <td>int64</td>\n",
              "      <td>42</td>\n",
              "      <td>0</td>\n",
              "      <td>0.0</td>\n",
              "    </tr>\n",
              "    <tr>\n",
              "      <th>9</th>\n",
              "      <td>poutcome</td>\n",
              "      <td>40719</td>\n",
              "      <td>int64</td>\n",
              "      <td>3</td>\n",
              "      <td>0</td>\n",
              "      <td>0.0</td>\n",
              "    </tr>\n",
              "    <tr>\n",
              "      <th>10</th>\n",
              "      <td>deposit</td>\n",
              "      <td>40719</td>\n",
              "      <td>int64</td>\n",
              "      <td>2</td>\n",
              "      <td>0</td>\n",
              "      <td>0.0</td>\n",
              "    </tr>\n",
              "  </tbody>\n",
              "</table>\n",
              "</div>\n",
              "      <button class=\"colab-df-convert\" onclick=\"convertToInteractive('df-e0d91cab-531d-4d9e-86c7-fa437057fbe2')\"\n",
              "              title=\"Convert this dataframe to an interactive table.\"\n",
              "              style=\"display:none;\">\n",
              "        \n",
              "  <svg xmlns=\"http://www.w3.org/2000/svg\" height=\"24px\"viewBox=\"0 0 24 24\"\n",
              "       width=\"24px\">\n",
              "    <path d=\"M0 0h24v24H0V0z\" fill=\"none\"/>\n",
              "    <path d=\"M18.56 5.44l.94 2.06.94-2.06 2.06-.94-2.06-.94-.94-2.06-.94 2.06-2.06.94zm-11 1L8.5 8.5l.94-2.06 2.06-.94-2.06-.94L8.5 2.5l-.94 2.06-2.06.94zm10 10l.94 2.06.94-2.06 2.06-.94-2.06-.94-.94-2.06-.94 2.06-2.06.94z\"/><path d=\"M17.41 7.96l-1.37-1.37c-.4-.4-.92-.59-1.43-.59-.52 0-1.04.2-1.43.59L10.3 9.45l-7.72 7.72c-.78.78-.78 2.05 0 2.83L4 21.41c.39.39.9.59 1.41.59.51 0 1.02-.2 1.41-.59l7.78-7.78 2.81-2.81c.8-.78.8-2.07 0-2.86zM5.41 20L4 18.59l7.72-7.72 1.47 1.35L5.41 20z\"/>\n",
              "  </svg>\n",
              "      </button>\n",
              "      \n",
              "  <style>\n",
              "    .colab-df-container {\n",
              "      display:flex;\n",
              "      flex-wrap:wrap;\n",
              "      gap: 12px;\n",
              "    }\n",
              "\n",
              "    .colab-df-convert {\n",
              "      background-color: #E8F0FE;\n",
              "      border: none;\n",
              "      border-radius: 50%;\n",
              "      cursor: pointer;\n",
              "      display: none;\n",
              "      fill: #1967D2;\n",
              "      height: 32px;\n",
              "      padding: 0 0 0 0;\n",
              "      width: 32px;\n",
              "    }\n",
              "\n",
              "    .colab-df-convert:hover {\n",
              "      background-color: #E2EBFA;\n",
              "      box-shadow: 0px 1px 2px rgba(60, 64, 67, 0.3), 0px 1px 3px 1px rgba(60, 64, 67, 0.15);\n",
              "      fill: #174EA6;\n",
              "    }\n",
              "\n",
              "    [theme=dark] .colab-df-convert {\n",
              "      background-color: #3B4455;\n",
              "      fill: #D2E3FC;\n",
              "    }\n",
              "\n",
              "    [theme=dark] .colab-df-convert:hover {\n",
              "      background-color: #434B5C;\n",
              "      box-shadow: 0px 1px 3px 1px rgba(0, 0, 0, 0.15);\n",
              "      filter: drop-shadow(0px 1px 2px rgba(0, 0, 0, 0.3));\n",
              "      fill: #FFFFFF;\n",
              "    }\n",
              "  </style>\n",
              "\n",
              "      <script>\n",
              "        const buttonEl =\n",
              "          document.querySelector('#df-e0d91cab-531d-4d9e-86c7-fa437057fbe2 button.colab-df-convert');\n",
              "        buttonEl.style.display =\n",
              "          google.colab.kernel.accessAllowed ? 'block' : 'none';\n",
              "\n",
              "        async function convertToInteractive(key) {\n",
              "          const element = document.querySelector('#df-e0d91cab-531d-4d9e-86c7-fa437057fbe2');\n",
              "          const dataTable =\n",
              "            await google.colab.kernel.invokeFunction('convertToInteractive',\n",
              "                                                     [key], {});\n",
              "          if (!dataTable) return;\n",
              "\n",
              "          const docLinkHtml = 'Like what you see? Visit the ' +\n",
              "            '<a target=\"_blank\" href=https://colab.research.google.com/notebooks/data_table.ipynb>data table notebook</a>'\n",
              "            + ' to learn more about interactive tables.';\n",
              "          element.innerHTML = '';\n",
              "          dataTable['output_type'] = 'display_data';\n",
              "          await google.colab.output.renderOutput(dataTable, element);\n",
              "          const docLink = document.createElement('div');\n",
              "          docLink.innerHTML = docLinkHtml;\n",
              "          element.appendChild(docLink);\n",
              "        }\n",
              "      </script>\n",
              "    </div>\n",
              "  </div>\n",
              "  "
            ]
          },
          "metadata": {},
          "execution_count": 109
        }
      ]
    },
    {
      "cell_type": "code",
      "source": [
        "data.dropna(inplace = True)"
      ],
      "metadata": {
        "colab": {
          "base_uri": "https://localhost:8080/"
        },
        "id": "hNkdl0MSGOaQ",
        "outputId": "e28ec3f1-d077-4155-98b9-4c36001276c2"
      },
      "execution_count": null,
      "outputs": [
        {
          "output_type": "stream",
          "name": "stderr",
          "text": [
            "/usr/local/lib/python3.7/dist-packages/pandas/util/_decorators.py:311: SettingWithCopyWarning: \n",
            "A value is trying to be set on a copy of a slice from a DataFrame\n",
            "\n",
            "See the caveats in the documentation: https://pandas.pydata.org/pandas-docs/stable/user_guide/indexing.html#returning-a-view-versus-a-copy\n",
            "  return func(*args, **kwargs)\n"
          ]
        }
      ]
    },
    {
      "cell_type": "markdown",
      "source": [
        "## 0. Train test split"
      ],
      "metadata": {
        "id": "nZ9WRp6djRno"
      }
    },
    {
      "cell_type": "code",
      "source": [
        "from sklearn.model_selection import train_test_split"
      ],
      "metadata": {
        "id": "lkmgYQ_4jOJa"
      },
      "execution_count": null,
      "outputs": []
    },
    {
      "cell_type": "code",
      "source": [
        "X = data.drop('deposit', axis = 1)\n",
        "y = data['deposit']"
      ],
      "metadata": {
        "id": "4Sk5Iq-XjVf9"
      },
      "execution_count": null,
      "outputs": []
    },
    {
      "cell_type": "code",
      "source": [
        "X_train, X_test, y_train,y_test = train_test_split(X, y, test_size=0.2, random_state=42)\n",
        "print(X_train.shape,X_test.shape, y_train.shape,y_test.shape )"
      ],
      "metadata": {
        "colab": {
          "base_uri": "https://localhost:8080/"
        },
        "id": "wXcBbVS5jXvQ",
        "outputId": "4456ddf5-aaa9-4734-c57a-144bca378fdc"
      },
      "execution_count": null,
      "outputs": [
        {
          "output_type": "stream",
          "name": "stdout",
          "text": [
            "(32575, 10) (8144, 10) (32575,) (8144,)\n"
          ]
        }
      ]
    },
    {
      "cell_type": "markdown",
      "source": [
        "## 1. Decision tree"
      ],
      "metadata": {
        "id": "fIqQTA58jgTI"
      }
    },
    {
      "cell_type": "code",
      "source": [
        "from sklearn.tree import DecisionTreeClassifier"
      ],
      "metadata": {
        "id": "kk-SFNoJjaAW"
      },
      "execution_count": null,
      "outputs": []
    },
    {
      "cell_type": "code",
      "source": [
        "# Create Decision Tree classifer object\n",
        "clf = DecisionTreeClassifier()\n",
        "\n",
        "# Train Decision Tree Classifer\n",
        "clf = clf.fit(X_train,y_train)\n",
        "\n",
        "#Predict the response for test dataset\n",
        "y_pred = clf.predict(X_test)"
      ],
      "metadata": {
        "id": "aeX8782jjejo"
      },
      "execution_count": null,
      "outputs": []
    },
    {
      "cell_type": "code",
      "source": [
        "# Model Accuracy, how often is the classifier correct?\n",
        "decision = metrics.accuracy_score(y_test, y_pred)\n",
        "print(\"Accuracy:\", decision)"
      ],
      "metadata": {
        "colab": {
          "base_uri": "https://localhost:8080/"
        },
        "id": "UZsVCns0jlPw",
        "outputId": "da15f038-3518-4791-f7d2-8da232b88cab"
      },
      "execution_count": null,
      "outputs": [
        {
          "output_type": "stream",
          "name": "stdout",
          "text": [
            "Accuracy: 0.8486001964636543\n"
          ]
        }
      ]
    },
    {
      "cell_type": "code",
      "source": [
        "print(classification_report(y_test,y_pred))\n",
        "\n",
        "confusion_knn=confusion_matrix(y_test,y_pred)\n",
        "sns.heatmap(confusion_knn,annot=True)"
      ],
      "metadata": {
        "colab": {
          "base_uri": "https://localhost:8080/",
          "height": 442
        },
        "id": "MiUVs25Xj3QO",
        "outputId": "da93f079-7ce7-4872-9d82-2fe5f9b1e8d2"
      },
      "execution_count": null,
      "outputs": [
        {
          "output_type": "stream",
          "name": "stdout",
          "text": [
            "              precision    recall  f1-score   support\n",
            "\n",
            "           0       0.92      0.91      0.91      7254\n",
            "           1       0.32      0.33      0.33       890\n",
            "\n",
            "    accuracy                           0.85      8144\n",
            "   macro avg       0.62      0.62      0.62      8144\n",
            "weighted avg       0.85      0.85      0.85      8144\n",
            "\n"
          ]
        },
        {
          "output_type": "execute_result",
          "data": {
            "text/plain": [
              "<matplotlib.axes._subplots.AxesSubplot at 0x7f48bc81c050>"
            ]
          },
          "metadata": {},
          "execution_count": 117
        },
        {
          "output_type": "display_data",
          "data": {
            "text/plain": [
              "<Figure size 432x288 with 2 Axes>"
            ],
            "image/png": "[encoded data removed]"
          },
          "metadata": {
            "needs_background": "light"
          }
        }
      ]
    },
    {
      "cell_type": "markdown",
      "source": [
        "## 2.Logistics regression"
      ],
      "metadata": {
        "id": "ULtALnaBj85k"
      }
    },
    {
      "cell_type": "code",
      "source": [
        "from sklearn.linear_model import LogisticRegression"
      ],
      "metadata": {
        "id": "7DyohVXgj5vy"
      },
      "execution_count": null,
      "outputs": []
    },
    {
      "cell_type": "code",
      "source": [
        "modelLg = LogisticRegression()\n",
        "\n",
        "modelLg.fit(X_train,y_train)\n",
        "\n",
        "predLg = modelLg.predict(X_test)"
      ],
      "metadata": {
        "colab": {
          "base_uri": "https://localhost:8080/"
        },
        "id": "pzLLnHmyGaxu",
        "outputId": "23e89fe8-ee10-479d-c721-758ab7948924"
      },
      "execution_count": null,
      "outputs": [
        {
          "output_type": "stream",
          "name": "stderr",
          "text": [
            "/usr/local/lib/python3.7/dist-packages/sklearn/linear_model/_logistic.py:818: ConvergenceWarning: lbfgs failed to converge (status=1):\n",
            "STOP: TOTAL NO. of ITERATIONS REACHED LIMIT.\n",
            "\n",
            "Increase the number of iterations (max_iter) or scale the data as shown in:\n",
            "    https://scikit-learn.org/stable/modules/preprocessing.html\n",
            "Please also refer to the documentation for alternative solver options:\n",
            "    https://scikit-learn.org/stable/modules/linear_model.html#logistic-regression\n",
            "  extra_warning_msg=_LOGISTIC_SOLVER_CONVERGENCE_MSG,\n"
          ]
        }
      ]
    },
    {
      "cell_type": "code",
      "source": [
        "# Model Accuracy, how often is the classifier correct?\n",
        "lg =metrics.accuracy_score(y_test, predLg)\n",
        "print(\"Accuracy:\", lg)"
      ],
      "metadata": {
        "colab": {
          "base_uri": "https://localhost:8080/"
        },
        "id": "qJ8ZhLXiGgqQ",
        "outputId": "43e8cbc0-82f9-42c6-f176-b3002ab08516"
      },
      "execution_count": null,
      "outputs": [
        {
          "output_type": "stream",
          "name": "stdout",
          "text": [
            "Accuracy: 0.8946463654223968\n"
          ]
        }
      ]
    },
    {
      "cell_type": "code",
      "source": [
        "print(classification_report(y_test,predLg))\n",
        "\n",
        "confusion_Lg=confusion_matrix(y_test,predLg)\n",
        "sns.heatmap(confusion_Lg,annot=True)"
      ],
      "metadata": {
        "colab": {
          "base_uri": "https://localhost:8080/",
          "height": 442
        },
        "id": "A6KEx1CkGona",
        "outputId": "ea5a3d8f-58b0-4a65-98a3-6064dfcb18fa"
      },
      "execution_count": null,
      "outputs": [
        {
          "output_type": "stream",
          "name": "stdout",
          "text": [
            "              precision    recall  f1-score   support\n",
            "\n",
            "           0       0.90      1.00      0.94      7254\n",
            "           1       0.71      0.06      0.11       890\n",
            "\n",
            "    accuracy                           0.89      8144\n",
            "   macro avg       0.80      0.53      0.53      8144\n",
            "weighted avg       0.88      0.89      0.85      8144\n",
            "\n"
          ]
        },
        {
          "output_type": "execute_result",
          "data": {
            "text/plain": [
              "<matplotlib.axes._subplots.AxesSubplot at 0x7f48bc682990>"
            ]
          },
          "metadata": {},
          "execution_count": 121
        },
        {
          "output_type": "display_data",
          "data": {
            "text/plain": [
              "<Figure size 432x288 with 2 Axes>"
            ],
            "image/png": "[encoded data removed]"
          },
          "metadata": {
            "needs_background": "light"
          }
        }
      ]
    },
    {
      "cell_type": "markdown",
      "source": [
        "## 3. Support Vector Machines"
      ],
      "metadata": {
        "id": "8kwwcgaSG1i2"
      }
    },
    {
      "cell_type": "code",
      "source": [
        "from sklearn import svm"
      ],
      "metadata": {
        "id": "9WNpN3pzGs1-"
      },
      "execution_count": null,
      "outputs": []
    },
    {
      "cell_type": "code",
      "source": [
        "model_svm = svm.SVC()\n",
        "\n",
        "model_svm.fit(X_train,y_train)\n",
        "\n",
        "pred_svm = model_svm.predict(X_test)"
      ],
      "metadata": {
        "id": "WlJLOQyzHAU3"
      },
      "execution_count": null,
      "outputs": []
    },
    {
      "cell_type": "code",
      "source": [
        "# Model Accuracy\n",
        "svm = metrics.accuracy_score(y_test, pred_svm)\n",
        "print(\"Accuracy:\", svm)"
      ],
      "metadata": {
        "colab": {
          "base_uri": "https://localhost:8080/"
        },
        "id": "jreYrQKGHKYd",
        "outputId": "85f03823-7504-42e7-92c2-66f96e48696d"
      },
      "execution_count": null,
      "outputs": [
        {
          "output_type": "stream",
          "name": "stdout",
          "text": [
            "Accuracy: 0.8907170923379175\n"
          ]
        }
      ]
    },
    {
      "cell_type": "code",
      "source": [
        "print(classification_report(y_test,pred_svm))\n",
        "\n",
        "confusion_svm = confusion_matrix(y_test,pred_svm)\n",
        "sns.heatmap(confusion_knn,annot=True)"
      ],
      "metadata": {
        "colab": {
          "base_uri": "https://localhost:8080/",
          "height": 566
        },
        "id": "LC-DMAPoHPoW",
        "outputId": "7e7b959d-8585-4184-873c-26640a989d61"
      },
      "execution_count": null,
      "outputs": [
        {
          "output_type": "stream",
          "name": "stdout",
          "text": [
            "              precision    recall  f1-score   support\n",
            "\n",
            "           0       0.89      1.00      0.94      7254\n",
            "           1       0.00      0.00      0.00       890\n",
            "\n",
            "    accuracy                           0.89      8144\n",
            "   macro avg       0.45      0.50      0.47      8144\n",
            "weighted avg       0.79      0.89      0.84      8144\n",
            "\n"
          ]
        },
        {
          "output_type": "stream",
          "name": "stderr",
          "text": [
            "/usr/local/lib/python3.7/dist-packages/sklearn/metrics/_classification.py:1318: UndefinedMetricWarning: Precision and F-score are ill-defined and being set to 0.0 in labels with no predicted samples. Use `zero_division` parameter to control this behavior.\n",
            "  _warn_prf(average, modifier, msg_start, len(result))\n",
            "/usr/local/lib/python3.7/dist-packages/sklearn/metrics/_classification.py:1318: UndefinedMetricWarning: Precision and F-score are ill-defined and being set to 0.0 in labels with no predicted samples. Use `zero_division` parameter to control this behavior.\n",
            "  _warn_prf(average, modifier, msg_start, len(result))\n",
            "/usr/local/lib/python3.7/dist-packages/sklearn/metrics/_classification.py:1318: UndefinedMetricWarning: Precision and F-score are ill-defined and being set to 0.0 in labels with no predicted samples. Use `zero_division` parameter to control this behavior.\n",
            "  _warn_prf(average, modifier, msg_start, len(result))\n"
          ]
        },
        {
          "output_type": "execute_result",
          "data": {
            "text/plain": [
              "<matplotlib.axes._subplots.AxesSubplot at 0x7f48bc075510>"
            ]
          },
          "metadata": {},
          "execution_count": 125
        },
        {
          "output_type": "display_data",
          "data": {
            "text/plain": [
              "<Figure size 432x288 with 2 Axes>"
            ],
            "image/png": "[encoded data removed]"
          },
          "metadata": {
            "needs_background": "light"
          }
        }
      ]
    },
    {
      "cell_type": "markdown",
      "source": [
        "## 4. KNN"
      ],
      "metadata": {
        "id": "OmVtU2sOHXgc"
      }
    },
    {
      "cell_type": "code",
      "source": [
        "from sklearn.neighbors import KNeighborsClassifier"
      ],
      "metadata": {
        "id": "DoDe0v_sHUtZ"
      },
      "execution_count": null,
      "outputs": []
    },
    {
      "cell_type": "code",
      "source": [
        "# Create neighbors\n",
        "neighbors = np.arange(1, 13)\n",
        "train_accuracies = {}\n",
        "test_accuracies = {}\n",
        "\n",
        "for neighbor in neighbors:\n",
        "  \n",
        "    # Set up a KNN Classifier\n",
        "    knn = KNeighborsClassifier(n_neighbors=neighbor)\n",
        "  \n",
        "    # Fit the model\n",
        "    knn.fit(X_train, y_train)\n",
        "  \n",
        "    # Compute accuracy\n",
        "    train_accuracies[neighbor] = knn.score(X_train, y_train)\n",
        "    test_accuracies[neighbor] = knn.score(X_test, y_test)\n",
        "print(neighbors, '\\n', train_accuracies, '\\n', test_accuracies)"
      ],
      "metadata": {
        "colab": {
          "base_uri": "https://localhost:8080/"
        },
        "id": "PGb0e7cyHZv3",
        "outputId": "5570bc88-d6fd-44c3-fc83-bef2629d74c3"
      },
      "execution_count": null,
      "outputs": [
        {
          "output_type": "stream",
          "name": "stdout",
          "text": [
            "[ 1  2  3  4  5  6  7  8  9 10 11 12] \n",
            " {1: 0.9842210283960092, 2: 0.9222102839600921, 3: 0.9236838066001535, 4: 0.9114965464313124, 5: 0.9127244819646968, 6: 0.9074136607828089, 7: 0.9083346124328473, 8: 0.9043438219493477, 9: 0.9050498848810438, 10: 0.9022870299309286, 11: 0.9030237912509593, 12: 0.9010283960092095} \n",
            " {1: 0.8481090373280943, 2: 0.887401768172888, 3: 0.8801571709233792, 4: 0.8901031434184676, 5: 0.8843320235756386, 6: 0.8903487229862476, 7: 0.8885068762278978, 8: 0.8915766208251473, 9: 0.8908398821218074, 10: 0.8913310412573674, 11: 0.8899803536345776, 12: 0.8918222003929273}\n"
          ]
        }
      ]
    },
    {
      "cell_type": "code",
      "source": [
        "# Add a title\n",
        "plt.title(\"KNN: Varying Number of Neighbors\")\n",
        "\n",
        "# Plot training accuracies\n",
        "plt.plot(list(neighbors), list(train_accuracies.values()), label=\"Training Accuracy\")\n",
        "\n",
        "# Plot test accuracies\n",
        "plt.plot(list(neighbors), list(test_accuracies.values()), label=\"Testing Accuracy\")\n",
        "\n",
        "plt.legend()\n",
        "plt.xlabel(\"Number of Neighbors\")\n",
        "plt.ylabel(\"Accuracy\")\n",
        "\n",
        "# Display the plot\n",
        "plt.show()"
      ],
      "metadata": {
        "colab": {
          "base_uri": "https://localhost:8080/",
          "height": 301
        },
        "id": "0toiUqsdHcTf",
        "outputId": "ce05fbf6-d0f2-4eb8-85e9-59344822a29a"
      },
      "execution_count": null,
      "outputs": [
        {
          "output_type": "display_data",
          "data": {
            "text/plain": [
              "<Figure size 432x288 with 1 Axes>"
            ],
            "image/png": "[encoded data removed]"
          },
          "metadata": {
            "needs_background": "light"
          }
        }
      ]
    },
    {
      "cell_type": "code",
      "source": [
        "# Set up a KNN Classifier\n",
        "knn = KNeighborsClassifier(n_neighbors=2)\n",
        "\n",
        "knn.fit(X_train, y_train)\n",
        "\n",
        "predKnn = knn.predict(X_test)"
      ],
      "metadata": {
        "id": "FC0_9yBiHe6b"
      },
      "execution_count": null,
      "outputs": []
    },
    {
      "cell_type": "code",
      "source": [
        "# Model Accuracy, how often is the classifier correct?\n",
        "knn = metrics.accuracy_score(y_test, predKnn)\n",
        "print(\"Accuracy:\",knn)"
      ],
      "metadata": {
        "colab": {
          "base_uri": "https://localhost:8080/"
        },
        "id": "6FPrgmpmHhBR",
        "outputId": "c15bb134-9fe7-4bf8-9611-80fe5dc96b28"
      },
      "execution_count": null,
      "outputs": [
        {
          "output_type": "stream",
          "name": "stdout",
          "text": [
            "Accuracy: 0.887401768172888\n"
          ]
        }
      ]
    },
    {
      "cell_type": "code",
      "source": [
        "print(classification_report(y_test,predKnn))\n",
        "\n",
        "confusion_knn=confusion_matrix(y_test,predKnn)\n",
        "sns.heatmap(confusion_knn,annot=True)"
      ],
      "metadata": {
        "colab": {
          "base_uri": "https://localhost:8080/",
          "height": 442
        },
        "id": "a6NZ86AWHjGH",
        "outputId": "d4bb228a-03c2-4187-87b1-0a0d0559e33b"
      },
      "execution_count": null,
      "outputs": [
        {
          "output_type": "stream",
          "name": "stdout",
          "text": [
            "              precision    recall  f1-score   support\n",
            "\n",
            "           0       0.90      0.98      0.94      7254\n",
            "           1       0.44      0.11      0.17       890\n",
            "\n",
            "    accuracy                           0.89      8144\n",
            "   macro avg       0.67      0.54      0.56      8144\n",
            "weighted avg       0.85      0.89      0.86      8144\n",
            "\n"
          ]
        },
        {
          "output_type": "execute_result",
          "data": {
            "text/plain": [
              "<matplotlib.axes._subplots.AxesSubplot at 0x7f48b8321d50>"
            ]
          },
          "metadata": {},
          "execution_count": 136
        },
        {
          "output_type": "display_data",
          "data": {
            "text/plain": [
              "<Figure size 432x288 with 2 Axes>"
            ],
            "image/png": "[encoded data removed]"
          },
          "metadata": {
            "needs_background": "light"
          }
        }
      ]
    },
    {
      "cell_type": "markdown",
      "source": [
        "## 5. ANN"
      ],
      "metadata": {
        "id": "m5aAgYtPPDih"
      }
    },
    {
      "cell_type": "code",
      "source": [
        "from sklearn.neural_network import MLPClassifier"
      ],
      "metadata": {
        "id": "LWU1jERwOiKK"
      },
      "execution_count": null,
      "outputs": []
    },
    {
      "cell_type": "code",
      "source": [
        "modelAnn = MLPClassifier(solver='lbfgs', alpha=1e-5, hidden_layer_sizes=(5, 2), random_state=1)"
      ],
      "metadata": {
        "id": "3g2seRFePKCV"
      },
      "execution_count": null,
      "outputs": []
    },
    {
      "cell_type": "code",
      "source": [
        "modelAnn.fit(X_train, y_train)"
      ],
      "metadata": {
        "colab": {
          "base_uri": "https://localhost:8080/"
        },
        "id": "jeVIMeTJPOH8",
        "outputId": "489f1320-b588-4bef-b402-131ac0c4a834"
      },
      "execution_count": null,
      "outputs": [
        {
          "output_type": "execute_result",
          "data": {
            "text/plain": [
              "MLPClassifier(alpha=1e-05, hidden_layer_sizes=(5, 2), random_state=1,\n",
              "              solver='lbfgs')"
            ]
          },
          "metadata": {},
          "execution_count": 139
        }
      ]
    },
    {
      "cell_type": "code",
      "source": [
        "predAnn = modelAnn.predict(X_test)"
      ],
      "metadata": {
        "id": "L9cHs7whPQZD"
      },
      "execution_count": null,
      "outputs": []
    },
    {
      "cell_type": "code",
      "source": [
        "# Model Accuracy, how often is the classifier correct?\n",
        "ann = metrics.accuracy_score(y_test, predAnn)\n",
        "print(\"Accuracy:\",ann)"
      ],
      "metadata": {
        "colab": {
          "base_uri": "https://localhost:8080/"
        },
        "id": "ND-7rbVnPSne",
        "outputId": "528fe9ef-0190-44bd-8e61-50c575fe9f52"
      },
      "execution_count": null,
      "outputs": [
        {
          "output_type": "stream",
          "name": "stdout",
          "text": [
            "Accuracy: 0.8907170923379175\n"
          ]
        }
      ]
    },
    {
      "cell_type": "code",
      "source": [
        "print(classification_report(y_test,predAnn))\n",
        "\n",
        "confusion_knn=confusion_matrix(y_test,predAnn)\n",
        "sns.heatmap(confusion_knn,annot=True)"
      ],
      "metadata": {
        "colab": {
          "base_uri": "https://localhost:8080/",
          "height": 566
        },
        "id": "gnBdb0ETPUju",
        "outputId": "93879da7-7a86-44b2-ccac-b2fbfe01e306"
      },
      "execution_count": null,
      "outputs": [
        {
          "output_type": "stream",
          "name": "stdout",
          "text": [
            "              precision    recall  f1-score   support\n",
            "\n",
            "           0       0.89      1.00      0.94      7254\n",
            "           1       0.00      0.00      0.00       890\n",
            "\n",
            "    accuracy                           0.89      8144\n",
            "   macro avg       0.45      0.50      0.47      8144\n",
            "weighted avg       0.79      0.89      0.84      8144\n",
            "\n"
          ]
        },
        {
          "output_type": "stream",
          "name": "stderr",
          "text": [
            "/usr/local/lib/python3.7/dist-packages/sklearn/metrics/_classification.py:1318: UndefinedMetricWarning: Precision and F-score are ill-defined and being set to 0.0 in labels with no predicted samples. Use `zero_division` parameter to control this behavior.\n",
            "  _warn_prf(average, modifier, msg_start, len(result))\n",
            "/usr/local/lib/python3.7/dist-packages/sklearn/metrics/_classification.py:1318: UndefinedMetricWarning: Precision and F-score are ill-defined and being set to 0.0 in labels with no predicted samples. Use `zero_division` parameter to control this behavior.\n",
            "  _warn_prf(average, modifier, msg_start, len(result))\n",
            "/usr/local/lib/python3.7/dist-packages/sklearn/metrics/_classification.py:1318: UndefinedMetricWarning: Precision and F-score are ill-defined and being set to 0.0 in labels with no predicted samples. Use `zero_division` parameter to control this behavior.\n",
            "  _warn_prf(average, modifier, msg_start, len(result))\n"
          ]
        },
        {
          "output_type": "execute_result",
          "data": {
            "text/plain": [
              "<matplotlib.axes._subplots.AxesSubplot at 0x7f48bbdc3e50>"
            ]
          },
          "metadata": {},
          "execution_count": 142
        },
        {
          "output_type": "display_data",
          "data": {
            "text/plain": [
              "<Figure size 432x288 with 2 Axes>"
            ],
            "image/png": "[encoded data removed]"
          },
          "metadata": {
            "needs_background": "light"
          }
        }
      ]
    },
    {
      "cell_type": "markdown",
      "source": [
        "# IX. plot model predict"
      ],
      "metadata": {
        "id": "YMVPHXTkPbzc"
      }
    },
    {
      "cell_type": "code",
      "source": [
        "valuePredict = [decision, lg, svm, knn, ann]\n",
        "label = ['Decision Tree', 'Logistics regression', 'SVM', 'KNN', 'ANN']"
      ],
      "metadata": {
        "id": "Iur_Hq0LPXsu"
      },
      "execution_count": null,
      "outputs": []
    },
    {
      "cell_type": "code",
      "source": [
        "fig = plt.figure(figsize = (15,8))\n",
        "plt.title(\"Plot lines model predict\")\n",
        "sns.lineplot(x = label, y = valuePredict)\n",
        "plt.xlabel(\"value predict name model\")\n",
        "plt.ylabel(\"name model\")\n",
        "plt.show()"
      ],
      "metadata": {
        "colab": {
          "base_uri": "https://localhost:8080/",
          "height": 518
        },
        "id": "iBVIvpf9PeJZ",
        "outputId": "8de1422c-e757-41cc-acd6-e56d94e31ca2"
      },
      "execution_count": null,
      "outputs": [
        {
          "output_type": "display_data",
          "data": {
            "text/plain": [
              "<Figure size 1080x576 with 1 Axes>"
            ],
            "image/png": "[encoded data removed]"
          },
          "metadata": {
            "needs_background": "light"
          }
        }
      ]
    },
    {
      "cell_type": "markdown",
      "source": [
        "we can see. model logistics regression having accuracy the best."
      ],
      "metadata": {
        "id": "H0PKrt54QG4i"
      }
    },
    {
      "cell_type": "code",
      "source": [
        ""
      ],
      "metadata": {
        "id": "ivWjz3KkPgGt"
      },
      "execution_count": null,
      "outputs": []
    }
  ]
}